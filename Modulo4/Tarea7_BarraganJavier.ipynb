{
 "cells": [
  {
   "cell_type": "markdown",
   "metadata": {},
   "source": [
    "# Tarea 7. Estimación del riesgo sistemático ($\\beta$).\n",
    "\n",
    "<img style=\"float: right; margin: 0px 0px 15px 15px;\" src=\"https://upload.wikimedia.org/wikipedia/commons/thumb/6/6e/Separation_theorem_of_MPT.svg/2000px-Separation_theorem_of_MPT.svg.png\" width=\"400px\" height=\"400px\" />\n",
    "\n",
    "**Resumen.**\n",
    "> En esta tarea aplicarás la técnica aprendida en clase para la estimación del coeficiente de riesgo sistemático $\\beta$, el cual es primordial en el modelo de valoración de activos en equilibrio CAPM.\n",
    "\n",
    "**Criterio de revisión.**\n",
    "> Se te calificará de acuerdo a los resultados finales que reportes, basados en tu análisis.\n",
    "\n",
    "**Antes de comenzar.**\n",
    "> Por favor, copiar y pegar este archivo en otra ubicación. Antes de comenzar, nombrarlo *Tarea7_ApellidoNombre*, sin acentos y sin espacios; por ejemplo, en mi caso el archivo se llamaría *Tarea7_JimenezEsteban*. Resolver todos los puntos en dicho archivo y subir en este espacio."
   ]
  },
  {
   "cell_type": "markdown",
   "metadata": {},
   "source": [
    "## 1. Selección de activos (10 puntos)\n",
    "\n",
    "Seleccionar cinco (5) activos de su preferencia y enunciarlos en una celda en formato Markdown."
   ]
  },
  {
   "cell_type": "markdown",
   "metadata": {},
   "source": [
    "- Pfizer Inc. (PFE)\n",
    "- AT&T (T)\n",
    "- NVIDIA Corporation (NVDA)\n",
    "- Amarin Corporation (AMRN)\n",
    "- Occidental Petroleum Corporation (OXY)"
   ]
  },
  {
   "cell_type": "markdown",
   "metadata": {},
   "source": [
    "## 2. Descarga de datos (10 puntos)\n",
    "\n",
    "Descargar los precios mensuales ajustados en el cierre para el índice S&P 500 (^GSPC) y para los activos seleccionados en los últimos tres años.\n",
    "\n",
    "1. Graficar los precios (5 puntos).\n",
    "2. Graficar los rendimientos (5 puntos)."
   ]
  },
  {
   "cell_type": "code",
   "execution_count": 1,
   "metadata": {},
   "outputs": [],
   "source": [
    "# Importar paqueterias\n",
    "import pandas as pd\n",
    "import pandas_datareader.data as web\n",
    "%matplotlib inline"
   ]
  },
  {
   "cell_type": "code",
   "execution_count": 2,
   "metadata": {},
   "outputs": [],
   "source": [
    "# Función para descargar precios de cierre ajustados:\n",
    "def get_adj_closes(tickers, start_date=None, end_date=None, freq='m'):\n",
    "    # Fecha inicio por defecto (start_date='2010-01-01') y fecha fin por defecto (end_date=today)\n",
    "    # Descargamos DataFrame con todos los datos\n",
    "    closes = web.YahooDailyReader(symbols=tickers, start=start_date, end=end_date, interval=freq).read()['Adj Close']\n",
    "    # Se ordenan los índices de manera ascendente\n",
    "    closes.sort_index(inplace=True)\n",
    "    return closes"
   ]
  },
  {
   "cell_type": "code",
   "execution_count": 3,
   "metadata": {},
   "outputs": [],
   "source": [
    "#importar precios de activos \n",
    "names= ['PFE','T','NVDA','AMRN','OXY','^GSPC']\n",
    "start, end= '2015-04-20','2020-04-20'\n",
    "closes= get_adj_closes(tickers=names, \n",
    "                    start_date=start, \n",
    "                    end_date=end)"
   ]
  },
  {
   "cell_type": "code",
   "execution_count": 5,
   "metadata": {},
   "outputs": [],
   "source": [
    "# Obtener precios mensuales\n",
    "closes=get_adj_closes(tickers=names,start_date=start,end_date=end)"
   ]
  },
  {
   "cell_type": "code",
   "execution_count": 6,
   "metadata": {},
   "outputs": [
    {
     "data": {
      "text/html": [
       "<div>\n",
       "<style scoped>\n",
       "    .dataframe tbody tr th:only-of-type {\n",
       "        vertical-align: middle;\n",
       "    }\n",
       "\n",
       "    .dataframe tbody tr th {\n",
       "        vertical-align: top;\n",
       "    }\n",
       "\n",
       "    .dataframe thead th {\n",
       "        text-align: right;\n",
       "    }\n",
       "</style>\n",
       "<table border=\"1\" class=\"dataframe\">\n",
       "  <thead>\n",
       "    <tr style=\"text-align: right;\">\n",
       "      <th>Symbols</th>\n",
       "      <th>PFE</th>\n",
       "      <th>T</th>\n",
       "      <th>NVDA</th>\n",
       "      <th>AMRN</th>\n",
       "      <th>OXY</th>\n",
       "      <th>^GSPC</th>\n",
       "    </tr>\n",
       "    <tr>\n",
       "      <th>Date</th>\n",
       "      <th></th>\n",
       "      <th></th>\n",
       "      <th></th>\n",
       "      <th></th>\n",
       "      <th></th>\n",
       "      <th></th>\n",
       "    </tr>\n",
       "  </thead>\n",
       "  <tbody>\n",
       "    <tr>\n",
       "      <td>2015-05-01</td>\n",
       "      <td>28.982380</td>\n",
       "      <td>26.234520</td>\n",
       "      <td>21.404249</td>\n",
       "      <td>2.31</td>\n",
       "      <td>60.263245</td>\n",
       "      <td>2107.389893</td>\n",
       "    </tr>\n",
       "    <tr>\n",
       "      <td>2015-06-01</td>\n",
       "      <td>28.196251</td>\n",
       "      <td>26.978874</td>\n",
       "      <td>19.540529</td>\n",
       "      <td>2.46</td>\n",
       "      <td>59.939552</td>\n",
       "      <td>2063.110107</td>\n",
       "    </tr>\n",
       "    <tr>\n",
       "      <td>2015-07-01</td>\n",
       "      <td>30.323799</td>\n",
       "      <td>26.386435</td>\n",
       "      <td>19.385059</td>\n",
       "      <td>2.26</td>\n",
       "      <td>54.624004</td>\n",
       "      <td>2103.840088</td>\n",
       "    </tr>\n",
       "    <tr>\n",
       "      <td>2015-08-01</td>\n",
       "      <td>27.969206</td>\n",
       "      <td>25.737200</td>\n",
       "      <td>21.843416</td>\n",
       "      <td>2.21</td>\n",
       "      <td>56.810524</td>\n",
       "      <td>1972.180054</td>\n",
       "    </tr>\n",
       "    <tr>\n",
       "      <td>2015-09-01</td>\n",
       "      <td>26.619904</td>\n",
       "      <td>25.075296</td>\n",
       "      <td>24.052742</td>\n",
       "      <td>1.93</td>\n",
       "      <td>51.472626</td>\n",
       "      <td>1920.030029</td>\n",
       "    </tr>\n",
       "  </tbody>\n",
       "</table>\n",
       "</div>"
      ],
      "text/plain": [
       "Symbols           PFE          T       NVDA  AMRN        OXY        ^GSPC\n",
       "Date                                                                     \n",
       "2015-05-01  28.982380  26.234520  21.404249  2.31  60.263245  2107.389893\n",
       "2015-06-01  28.196251  26.978874  19.540529  2.46  59.939552  2063.110107\n",
       "2015-07-01  30.323799  26.386435  19.385059  2.26  54.624004  2103.840088\n",
       "2015-08-01  27.969206  25.737200  21.843416  2.21  56.810524  1972.180054\n",
       "2015-09-01  26.619904  25.075296  24.052742  1.93  51.472626  1920.030029"
      ]
     },
     "execution_count": 6,
     "metadata": {},
     "output_type": "execute_result"
    }
   ],
   "source": [
    "closes.head()"
   ]
  },
  {
   "cell_type": "code",
   "execution_count": 7,
   "metadata": {},
   "outputs": [
    {
     "data": {
      "text/plain": [
       "<matplotlib.axes._subplots.AxesSubplot at 0x23d897e4988>"
      ]
     },
     "execution_count": 7,
     "metadata": {},
     "output_type": "execute_result"
    },
    {
     "data": {
      "image/png": "[encoded data removed]",
      "text/plain": [
       "<Figure size 432x288 with 1 Axes>"
      ]
     },
     "metadata": {
      "needs_background": "light"
     },
     "output_type": "display_data"
    }
   ],
   "source": [
    "# Graficar los precios \n",
    "closes.plot(grid=True)"
   ]
  },
  {
   "cell_type": "code",
   "execution_count": 8,
   "metadata": {},
   "outputs": [
    {
     "data": {
      "text/html": [
       "<div>\n",
       "<style scoped>\n",
       "    .dataframe tbody tr th:only-of-type {\n",
       "        vertical-align: middle;\n",
       "    }\n",
       "\n",
       "    .dataframe tbody tr th {\n",
       "        vertical-align: top;\n",
       "    }\n",
       "\n",
       "    .dataframe thead th {\n",
       "        text-align: right;\n",
       "    }\n",
       "</style>\n",
       "<table border=\"1\" class=\"dataframe\">\n",
       "  <thead>\n",
       "    <tr style=\"text-align: right;\">\n",
       "      <th>Symbols</th>\n",
       "      <th>PFE</th>\n",
       "      <th>T</th>\n",
       "      <th>NVDA</th>\n",
       "      <th>AMRN</th>\n",
       "      <th>OXY</th>\n",
       "      <th>^GSPC</th>\n",
       "    </tr>\n",
       "    <tr>\n",
       "      <th>Date</th>\n",
       "      <th></th>\n",
       "      <th></th>\n",
       "      <th></th>\n",
       "      <th></th>\n",
       "      <th></th>\n",
       "      <th></th>\n",
       "    </tr>\n",
       "  </thead>\n",
       "  <tbody>\n",
       "    <tr>\n",
       "      <td>2015-05-01</td>\n",
       "      <td>NaN</td>\n",
       "      <td>NaN</td>\n",
       "      <td>NaN</td>\n",
       "      <td>NaN</td>\n",
       "      <td>NaN</td>\n",
       "      <td>NaN</td>\n",
       "    </tr>\n",
       "    <tr>\n",
       "      <td>2015-06-01</td>\n",
       "      <td>-0.027124</td>\n",
       "      <td>0.028373</td>\n",
       "      <td>-0.087072</td>\n",
       "      <td>0.064935</td>\n",
       "      <td>-0.005371</td>\n",
       "      <td>-0.021012</td>\n",
       "    </tr>\n",
       "    <tr>\n",
       "      <td>2015-07-01</td>\n",
       "      <td>0.075455</td>\n",
       "      <td>-0.021959</td>\n",
       "      <td>-0.007956</td>\n",
       "      <td>-0.081301</td>\n",
       "      <td>-0.088682</td>\n",
       "      <td>0.019742</td>\n",
       "    </tr>\n",
       "    <tr>\n",
       "      <td>2015-08-01</td>\n",
       "      <td>-0.077648</td>\n",
       "      <td>-0.024605</td>\n",
       "      <td>0.126817</td>\n",
       "      <td>-0.022124</td>\n",
       "      <td>0.040029</td>\n",
       "      <td>-0.062581</td>\n",
       "    </tr>\n",
       "    <tr>\n",
       "      <td>2015-09-01</td>\n",
       "      <td>-0.048242</td>\n",
       "      <td>-0.025718</td>\n",
       "      <td>0.101144</td>\n",
       "      <td>-0.126697</td>\n",
       "      <td>-0.093960</td>\n",
       "      <td>-0.026443</td>\n",
       "    </tr>\n",
       "  </tbody>\n",
       "</table>\n",
       "</div>"
      ],
      "text/plain": [
       "Symbols          PFE         T      NVDA      AMRN       OXY     ^GSPC\n",
       "Date                                                                  \n",
       "2015-05-01       NaN       NaN       NaN       NaN       NaN       NaN\n",
       "2015-06-01 -0.027124  0.028373 -0.087072  0.064935 -0.005371 -0.021012\n",
       "2015-07-01  0.075455 -0.021959 -0.007956 -0.081301 -0.088682  0.019742\n",
       "2015-08-01 -0.077648 -0.024605  0.126817 -0.022124  0.040029 -0.062581\n",
       "2015-09-01 -0.048242 -0.025718  0.101144 -0.126697 -0.093960 -0.026443"
      ]
     },
     "execution_count": 8,
     "metadata": {},
     "output_type": "execute_result"
    }
   ],
   "source": [
    "# Obtenemos rendimientos \n",
    "ret= closes.pct_change()\n",
    "ret.head()"
   ]
  },
  {
   "cell_type": "code",
   "execution_count": 9,
   "metadata": {},
   "outputs": [
    {
     "data": {
      "text/plain": [
       "<matplotlib.axes._subplots.AxesSubplot at 0x23d896c8608>"
      ]
     },
     "execution_count": 9,
     "metadata": {},
     "output_type": "execute_result"
    },
    {
     "data": {
      "image/png": "[encoded data removed]",
      "text/plain": [
       "<Figure size 432x288 with 1 Axes>"
      ]
     },
     "metadata": {
      "needs_background": "light"
     },
     "output_type": "display_data"
    }
   ],
   "source": [
    "ret.plot(grid=True)"
   ]
  },
  {
   "cell_type": "markdown",
   "metadata": {},
   "source": [
    "## 3. Calculando los coeficientes $\\beta$ (50 puntos)\n",
    "\n",
    "Usando los datos de rendimientos mensuales calculados en el punto anterior:\n",
    "\n",
    "1. Estime el valor del coeficiente de riesgo sistemático $\\beta$ para cada uno de los activos seleccionados, con el método visto en clase (5 puntos por cada activo).\n",
    "2. Compare su estimación de $\\beta$ con el valor reportado en Yahoo! Finance mediante el error relativo: \n",
    "$$e_{relativo}=\\frac{\\beta_{estimado}-\\beta_{Yahoo!}}{\\beta_{Yahoo!}}.$$\n",
    "Concluya de acuerdo al valor del error relativo obtenido (5 puntos por cada activo)."
   ]
  },
  {
   "cell_type": "code",
   "execution_count": 10,
   "metadata": {},
   "outputs": [
    {
     "data": {
      "text/html": [
       "<div>\n",
       "<style scoped>\n",
       "    .dataframe tbody tr th:only-of-type {\n",
       "        vertical-align: middle;\n",
       "    }\n",
       "\n",
       "    .dataframe tbody tr th {\n",
       "        vertical-align: top;\n",
       "    }\n",
       "\n",
       "    .dataframe thead th {\n",
       "        text-align: right;\n",
       "    }\n",
       "</style>\n",
       "<table border=\"1\" class=\"dataframe\">\n",
       "  <thead>\n",
       "    <tr style=\"text-align: right;\">\n",
       "      <th>Symbols</th>\n",
       "      <th>PFE</th>\n",
       "      <th>T</th>\n",
       "      <th>NVDA</th>\n",
       "      <th>AMRN</th>\n",
       "      <th>OXY</th>\n",
       "      <th>^GSPC</th>\n",
       "    </tr>\n",
       "    <tr>\n",
       "      <th>Symbols</th>\n",
       "      <th></th>\n",
       "      <th></th>\n",
       "      <th></th>\n",
       "      <th></th>\n",
       "      <th></th>\n",
       "      <th></th>\n",
       "    </tr>\n",
       "  </thead>\n",
       "  <tbody>\n",
       "    <tr>\n",
       "      <td>PFE</td>\n",
       "      <td>0.002512</td>\n",
       "      <td>0.000839</td>\n",
       "      <td>0.000185</td>\n",
       "      <td>0.008246</td>\n",
       "      <td>0.001700</td>\n",
       "      <td>0.001060</td>\n",
       "    </tr>\n",
       "    <tr>\n",
       "      <td>T</td>\n",
       "      <td>0.000839</td>\n",
       "      <td>0.002974</td>\n",
       "      <td>0.001035</td>\n",
       "      <td>0.007288</td>\n",
       "      <td>0.002858</td>\n",
       "      <td>0.001187</td>\n",
       "    </tr>\n",
       "    <tr>\n",
       "      <td>NVDA</td>\n",
       "      <td>0.000185</td>\n",
       "      <td>0.001035</td>\n",
       "      <td>0.015829</td>\n",
       "      <td>0.000618</td>\n",
       "      <td>0.002552</td>\n",
       "      <td>0.002348</td>\n",
       "    </tr>\n",
       "    <tr>\n",
       "      <td>AMRN</td>\n",
       "      <td>0.008246</td>\n",
       "      <td>0.007288</td>\n",
       "      <td>0.000618</td>\n",
       "      <td>0.326323</td>\n",
       "      <td>0.015009</td>\n",
       "      <td>0.004405</td>\n",
       "    </tr>\n",
       "    <tr>\n",
       "      <td>OXY</td>\n",
       "      <td>0.001700</td>\n",
       "      <td>0.002858</td>\n",
       "      <td>0.002552</td>\n",
       "      <td>0.015009</td>\n",
       "      <td>0.012839</td>\n",
       "      <td>0.002998</td>\n",
       "    </tr>\n",
       "    <tr>\n",
       "      <td>^GSPC</td>\n",
       "      <td>0.001060</td>\n",
       "      <td>0.001187</td>\n",
       "      <td>0.002348</td>\n",
       "      <td>0.004405</td>\n",
       "      <td>0.002998</td>\n",
       "      <td>0.001715</td>\n",
       "    </tr>\n",
       "  </tbody>\n",
       "</table>\n",
       "</div>"
      ],
      "text/plain": [
       "Symbols       PFE         T      NVDA      AMRN       OXY     ^GSPC\n",
       "Symbols                                                            \n",
       "PFE      0.002512  0.000839  0.000185  0.008246  0.001700  0.001060\n",
       "T        0.000839  0.002974  0.001035  0.007288  0.002858  0.001187\n",
       "NVDA     0.000185  0.001035  0.015829  0.000618  0.002552  0.002348\n",
       "AMRN     0.008246  0.007288  0.000618  0.326323  0.015009  0.004405\n",
       "OXY      0.001700  0.002858  0.002552  0.015009  0.012839  0.002998\n",
       "^GSPC    0.001060  0.001187  0.002348  0.004405  0.002998  0.001715"
      ]
     },
     "execution_count": 10,
     "metadata": {},
     "output_type": "execute_result"
    }
   ],
   "source": [
    "# Obtener matriz de covarianza\n",
    "cov= ret.cov()\n",
    "cov"
   ]
  },
  {
   "cell_type": "code",
   "execution_count": 11,
   "metadata": {},
   "outputs": [
    {
     "data": {
      "text/plain": [
       "(2.568098424846675,\n",
       " 0.6921697545053,\n",
       " 1.368766560417858,\n",
       " 1.7475445341165587,\n",
       " 0.617970969807124)"
      ]
     },
     "execution_count": 11,
     "metadata": {},
     "output_type": "execute_result"
    }
   ],
   "source": [
    "#betas\n",
    "beta_amrn=cov.loc['AMRN', '^GSPC']/cov.loc['^GSPC','^GSPC']\n",
    "beta_t=cov.loc['T', '^GSPC']/cov.loc['^GSPC','^GSPC']\n",
    "beta_nvda=cov.loc['NVDA', '^GSPC']/cov.loc['^GSPC','^GSPC']\n",
    "beta_oxy=cov.loc['OXY', '^GSPC']/cov.loc['^GSPC','^GSPC']\n",
    "beta_pfe=cov.loc['PFE', '^GSPC']/cov.loc['^GSPC','^GSPC']\n",
    "beta_amrn,beta_t,beta_nvda,beta_oxy,beta_pfe"
   ]
  },
  {
   "cell_type": "code",
   "execution_count": 12,
   "metadata": {},
   "outputs": [],
   "source": [
    "#betas yahoo\n",
    "by_amrn= 2.19\n",
    "by_t=0.72\n",
    "by_nvda=1.47\n",
    "by_oxy=1.75\n",
    "by_pfe=0.60"
   ]
  },
  {
   "cell_type": "code",
   "execution_count": 13,
   "metadata": {},
   "outputs": [
    {
     "data": {
      "text/plain": [
       "(0.029951616345206638,\n",
       " -0.038653118742638784,\n",
       " -0.06886628543002853,\n",
       " 0.17264768257839053,\n",
       " -0.0014031233619664313)"
      ]
     },
     "execution_count": 13,
     "metadata": {},
     "output_type": "execute_result"
    }
   ],
   "source": [
    "# error relativo \n",
    "e_amrn= (beta_amrn-by_amrn)/by_amrn\n",
    "e_t= (beta_t-by_t)/by_t\n",
    "e_nvda=(beta_nvda-by_nvda)/by_nvda\n",
    "e_oxy=(beta_oxy-by_oxy)/by_oxy\n",
    "e_pfe=(beta_pfe-by_pfe)/by_pfe\n",
    "e_pfe,e_t,e_nvda,e_amrn,e_oxy"
   ]
  },
  {
   "cell_type": "markdown",
   "metadata": {},
   "source": [
    "**Conclusiones**\n",
    "\n",
    "- **Pfizer Inc. (PFE):** nuestro error es parecido, pero si tiene una variación significativa, que debe de ser analizada\n",
    "- **AT&T (T):** es muy cercano a cero, lo que nos indica que es significativo el cálculo que nosotros realizamos al del mercado.\n",
    "- **NVIDIA Corporation (NVDA):** Es un error relativo muy considerable al igual que la compañía anterior, muy parecido al del mercado.\n",
    "- **Amarin Corporation (AMRN):** el error de esta corporación es el mayor de las empresas que tomé.\n",
    "- **Occidental Petroleum Corporation (OXY):** Este error es muy cercano al cero, representa que la beta calculada es prácticamente igual a la mostrada en la página de referencia."
   ]
  },
  {
   "cell_type": "markdown",
   "metadata": {},
   "source": [
    "## 4. Gráfico y conclusiones (30 puntos)\n",
    "\n",
    "1. Grafique cada uno de los activos en el espacio de $E[r]$ (eje $y$) vs. $\\beta$ (eje $x$) (10 puntos).\n",
    "2. Ajuste una línea recta a los puntos obtenidos. Dar la ecuación (10 puntos).\n",
    "3. De la ecuación obtenida, identifique el valor de la tasa libre de riesgo $r_f$, y el valor del rendimiento esperado del portafolio de mercado $E[r_M]$. Compare este último con el rendimiento esperado del índice S&P500 (10 puntos)."
   ]
  },
  {
   "cell_type": "code",
   "execution_count": 14,
   "metadata": {},
   "outputs": [],
   "source": [
    "import matplotlib.pyplot as plt\n",
    "import pandas as pd"
   ]
  },
  {
   "cell_type": "code",
   "execution_count": 18,
   "metadata": {},
   "outputs": [
    {
     "data": {
      "text/html": [
       "<div>\n",
       "<style scoped>\n",
       "    .dataframe tbody tr th:only-of-type {\n",
       "        vertical-align: middle;\n",
       "    }\n",
       "\n",
       "    .dataframe tbody tr th {\n",
       "        vertical-align: top;\n",
       "    }\n",
       "\n",
       "    .dataframe thead th {\n",
       "        text-align: right;\n",
       "    }\n",
       "</style>\n",
       "<table border=\"1\" class=\"dataframe\">\n",
       "  <thead>\n",
       "    <tr style=\"text-align: right;\">\n",
       "      <th></th>\n",
       "      <th>Mean</th>\n",
       "      <th>Volatility</th>\n",
       "      <th>beta</th>\n",
       "    </tr>\n",
       "    <tr>\n",
       "      <th>Symbols</th>\n",
       "      <th></th>\n",
       "      <th></th>\n",
       "      <th></th>\n",
       "    </tr>\n",
       "  </thead>\n",
       "  <tbody>\n",
       "    <tr>\n",
       "      <td>PFE</td>\n",
       "      <td>0.004950</td>\n",
       "      <td>0.050123</td>\n",
       "      <td>2.5681</td>\n",
       "    </tr>\n",
       "    <tr>\n",
       "      <td>T</td>\n",
       "      <td>0.004033</td>\n",
       "      <td>0.054537</td>\n",
       "      <td>1.36877</td>\n",
       "    </tr>\n",
       "    <tr>\n",
       "      <td>NVDA</td>\n",
       "      <td>0.052602</td>\n",
       "      <td>0.125812</td>\n",
       "      <td>1.74754</td>\n",
       "    </tr>\n",
       "    <tr>\n",
       "      <td>AMRN</td>\n",
       "      <td>0.082236</td>\n",
       "      <td>0.571247</td>\n",
       "      <td>0.617971</td>\n",
       "    </tr>\n",
       "    <tr>\n",
       "      <td>OXY</td>\n",
       "      <td>-0.016890</td>\n",
       "      <td>0.113308</td>\n",
       "      <td>0.69217</td>\n",
       "    </tr>\n",
       "    <tr>\n",
       "      <td>^GSPC</td>\n",
       "      <td>0.005827</td>\n",
       "      <td>0.041418</td>\n",
       "      <td>NaN</td>\n",
       "    </tr>\n",
       "  </tbody>\n",
       "</table>\n",
       "</div>"
      ],
      "text/plain": [
       "             Mean  Volatility      beta\n",
       "Symbols                                \n",
       "PFE      0.004950    0.050123    2.5681\n",
       "T        0.004033    0.054537   1.36877\n",
       "NVDA     0.052602    0.125812   1.74754\n",
       "AMRN     0.082236    0.571247  0.617971\n",
       "OXY     -0.016890    0.113308   0.69217\n",
       "^GSPC    0.005827    0.041418       NaN"
      ]
     },
     "execution_count": 18,
     "metadata": {},
     "output_type": "execute_result"
    }
   ],
   "source": [
    "# Rendimientos y volatilidad mensuales & betas\n",
    "data= pd.DataFrame(data={'Mean':ret.mean(),\n",
    "                        'Volatility':ret.std()},\n",
    "                         index= ret.columns)\n",
    "data['beta']=[beta_amrn,beta_nvda,beta_oxy,beta_pfe,beta_t,'NaN']\n",
    "data"
   ]
  },
  {
   "cell_type": "code",
   "execution_count": 19,
   "metadata": {},
   "outputs": [
    {
     "data": {
      "image/png": "[encoded data removed]",
      "text/plain": [
       "<Figure size 432x288 with 1 Axes>"
      ]
     },
     "metadata": {
      "needs_background": "light"
     },
     "output_type": "display_data"
    }
   ],
   "source": [
    "# Gráfica rendimiento vs. betas\n",
    "plt.scatter(data.beta, data.Mean)\n",
    "\n",
    "plt.text(data.loc['AMRN','beta'],\n",
    "        data.loc['AMRN','Mean'],\n",
    "        'AMRN')\n",
    "plt.text(data.loc['NVDA','beta'],\n",
    "        data.loc['NVDA','Mean'],\n",
    "        'NVDA')\n",
    "plt.text(data.loc['OXY','beta'],\n",
    "        data.loc['OXY','Mean'],\n",
    "        'OXY')\n",
    "plt.text(data.loc['PFE','beta'],\n",
    "        data.loc['PFE','Mean'],\n",
    "        'PFE')\n",
    "plt.text(data.loc['T','beta'],\n",
    "        data.loc['T','Mean'],\n",
    "        'T')\n",
    "\n",
    "plt.ylabel('$E[r]$')\n",
    "plt.xlabel('beta')\n",
    "plt.grid()\n",
    "plt.show()"
   ]
  },
  {
   "cell_type": "code",
   "execution_count": 20,
   "metadata": {},
   "outputs": [
    {
     "data": {
      "text/html": [
       "<div>\n",
       "<style scoped>\n",
       "    .dataframe tbody tr th:only-of-type {\n",
       "        vertical-align: middle;\n",
       "    }\n",
       "\n",
       "    .dataframe tbody tr th {\n",
       "        vertical-align: top;\n",
       "    }\n",
       "\n",
       "    .dataframe thead th {\n",
       "        text-align: right;\n",
       "    }\n",
       "</style>\n",
       "<table border=\"1\" class=\"dataframe\">\n",
       "  <thead>\n",
       "    <tr style=\"text-align: right;\">\n",
       "      <th></th>\n",
       "      <th>Mean</th>\n",
       "      <th>Volatility</th>\n",
       "      <th>beta</th>\n",
       "    </tr>\n",
       "    <tr>\n",
       "      <th>Symbols</th>\n",
       "      <th></th>\n",
       "      <th></th>\n",
       "      <th></th>\n",
       "    </tr>\n",
       "  </thead>\n",
       "  <tbody>\n",
       "    <tr>\n",
       "      <td>PFE</td>\n",
       "      <td>0.004950</td>\n",
       "      <td>0.050123</td>\n",
       "      <td>2.5681</td>\n",
       "    </tr>\n",
       "    <tr>\n",
       "      <td>T</td>\n",
       "      <td>0.004033</td>\n",
       "      <td>0.054537</td>\n",
       "      <td>1.36877</td>\n",
       "    </tr>\n",
       "    <tr>\n",
       "      <td>NVDA</td>\n",
       "      <td>0.052602</td>\n",
       "      <td>0.125812</td>\n",
       "      <td>1.74754</td>\n",
       "    </tr>\n",
       "    <tr>\n",
       "      <td>AMRN</td>\n",
       "      <td>0.082236</td>\n",
       "      <td>0.571247</td>\n",
       "      <td>0.617971</td>\n",
       "    </tr>\n",
       "    <tr>\n",
       "      <td>OXY</td>\n",
       "      <td>-0.016890</td>\n",
       "      <td>0.113308</td>\n",
       "      <td>0.69217</td>\n",
       "    </tr>\n",
       "  </tbody>\n",
       "</table>\n",
       "</div>"
      ],
      "text/plain": [
       "             Mean  Volatility      beta\n",
       "Symbols                                \n",
       "PFE      0.004950    0.050123    2.5681\n",
       "T        0.004033    0.054537   1.36877\n",
       "NVDA     0.052602    0.125812   1.74754\n",
       "AMRN     0.082236    0.571247  0.617971\n",
       "OXY     -0.016890    0.113308   0.69217"
      ]
     },
     "execution_count": 20,
     "metadata": {},
     "output_type": "execute_result"
    }
   ],
   "source": [
    "datab= data[:5]\n",
    "datab"
   ]
  },
  {
   "cell_type": "code",
   "execution_count": 21,
   "metadata": {},
   "outputs": [],
   "source": [
    "import numpy as np\n",
    "from sklearn import linear_model\n",
    "from sklearn.metrics import mean_squared_error, r2_score"
   ]
  },
  {
   "cell_type": "code",
   "execution_count": 22,
   "metadata": {},
   "outputs": [],
   "source": [
    "#ajustamos \n",
    "dataX= datab[['beta']]\n",
    "Er= np.array(dataX)\n",
    "beta= datab['Mean'].values\n",
    "regr = linear_model.LinearRegression()"
   ]
  },
  {
   "cell_type": "code",
   "execution_count": 23,
   "metadata": {},
   "outputs": [],
   "source": [
    "#Entrenamos los datos \n",
    "regr.fit(Er, beta)\n",
    "#predecimos Y\n",
    "beta_pred = regr.predict(Er)"
   ]
  },
  {
   "cell_type": "code",
   "execution_count": 25,
   "metadata": {},
   "outputs": [
    {
     "data": {
      "image/png": "[encoded data removed]",
      "text/plain": [
       "<Figure size 432x288 with 1 Axes>"
      ]
     },
     "metadata": {
      "needs_background": "light"
     },
     "output_type": "display_data"
    }
   ],
   "source": [
    "X= np.linspace(0,3)\n",
    "plt.plot(Er,beta_pred, 'r')\n",
    "plt.scatter(datab.beta, datab.Mean)\n",
    "plt.ylabel('$E[r]$')\n",
    "plt.xlabel('beta')\n",
    "\n",
    "plt.text(datab.loc['AMRN','beta'],\n",
    "        datab.loc['AMRN','Mean'],\n",
    "        'AMRN')\n",
    "plt.text(datab.loc['NVDA','beta'],\n",
    "        datab.loc['NVDA','Mean'],\n",
    "        'NVDA')\n",
    "plt.text(datab.loc['OXY','beta'],\n",
    "        datab.loc['OXY','Mean'],\n",
    "        'OXY')\n",
    "plt.text(datab.loc['PFE','beta'],\n",
    "        datab.loc['PFE','Mean'],\n",
    "        'PFE')\n",
    "plt.text(datab.loc['T','beta'],\n",
    "        datab.loc['T','Mean'],\n",
    "        'T')\n",
    "\n",
    "plt.grid()\n",
    "plt.show()"
   ]
  },
  {
   "cell_type": "code",
   "execution_count": 26,
   "metadata": {},
   "outputs": [
    {
     "name": "stdout",
     "output_type": "stream",
     "text": [
      "0.04060858168500038\n",
      "[-0.01088169]\n"
     ]
    }
   ],
   "source": [
    "print(regr.intercept_) #b este es la tasa libre de riesgo \n",
    "print(regr.coef_) #pendiente (m) este es el rendimiento del mercado multiplicado por beta"
   ]
  },
  {
   "cell_type": "markdown",
   "metadata": {},
   "source": [
    "La ecuación de la recta sería :\n",
    "\n",
    "$$ E[r_p]= -0.0109 \\beta_p + 0.0406$$"
   ]
  },
  {
   "cell_type": "markdown",
   "metadata": {},
   "source": [
    "Comparamos la ecuación que obtuvimos con CAPM\n",
    "\n",
    "$$E[r_p]-r_f=\\beta_p(E[r_M]-r_f)$$\n",
    "\n",
    "Sustituimos\n",
    "\n",
    "$$E[r_p]=(E[r_M]-r_f)\\beta_p + r_f$$\n",
    "\n",
    "De este modo ya se parece a la ecuación que obtuvimos, ahora solo debemos despejar para obtener el $E[r_M]$\n",
    "\n",
    "$$E[r_M]=\\frac{E[r]+1}{\\beta}$$"
   ]
  },
  {
   "cell_type": "code",
   "execution_count": 30,
   "metadata": {},
   "outputs": [],
   "source": [
    "# Rendimiento del mercado \n",
    "rf=0.0406\n",
    "ret_M= ((Er-rf)/beta)+rf\n",
    "ret_M=ret_M.mean()"
   ]
  },
  {
   "cell_type": "code",
   "execution_count": 31,
   "metadata": {},
   "outputs": [
    {
     "data": {
      "text/plain": [
       "(114.66394449389095, 0.005826564524487296)"
      ]
     },
     "execution_count": 31,
     "metadata": {},
     "output_type": "execute_result"
    }
   ],
   "source": [
    "#comparación\n",
    "ret_SP= data['Mean']['^GSPC']\n",
    "ret_M, ret_SP"
   ]
  },
  {
   "cell_type": "markdown",
   "metadata": {},
   "source": [
    "**Conclusiones**\n",
    "\n",
    "Pareciera que la recta no se ajusta muy bien por la diferencia tan grande entre los activos que hemos analizado. La diferencia entre el rendimiento del mercado y el rendimiento de S&P 500 es muy grande, ya que nuestro rendimiento de mercado es casi muchas veces mayor que el del S&P 500. Probablemente nuestros activos seleccionados no representan a los activos que utilizan en el índice o estos estan en proporciones muy diferentes y por esto la diferencia entre los rendimientos.  "
   ]
  },
  {
   "cell_type": "markdown",
   "metadata": {},
   "source": [
    "<script>\n",
    "  $(document).ready(function(){\n",
    "    $('div.prompt').hide();\n",
    "    $('div.back-to-top').hide();\n",
    "    $('nav#menubar').hide();\n",
    "    $('.breadcrumb').hide();\n",
    "    $('.hidden-print').hide();\n",
    "  });\n",
    "</script>\n",
    "\n",
    "<footer id=\"attribution\" style=\"float:right; color:#808080; background:#fff;\">\n",
    "Created with Jupyter by Esteban Jiménez Rodríguez.\n",
    "</footer>"
   ]
  }
 ],
 "metadata": {
  "kernelspec": {
   "display_name": "Python 3",
   "language": "python",
   "name": "python3"
  },
  "language_info": {
   "codemirror_mode": {
    "name": "ipython",
    "version": 3
   },
   "file_extension": ".py",
   "mimetype": "text/x-python",
   "name": "python",
   "nbconvert_exporter": "python",
   "pygments_lexer": "ipython3",
   "version": "3.7.4"
  }
 },
 "nbformat": 4,
 "nbformat_minor": 2
}
