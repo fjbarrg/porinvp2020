{
 "cells": [
  {
   "cell_type": "markdown",
   "metadata": {},
   "source": [
    "# Examen 1 - Portafolios de inversión - O2018. Tipo 3.\n",
    "\n",
    "<img style=\"float: right; margin: 0px 0px 15px 15px;\" src=\"data:image/jpeg;base64,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\" width=\"600px\" height=\"400px\" />\n",
    "\n",
    "**Resumen.**\n",
    "> Este examen pretende evaluar los conocimientos que hemos adquirido a lo largo de los dos primeros módulos.\n",
    "\n",
    "> El examen consta de dos partes. \n",
    "1. La primera consiste en demostrar un resultado particular de los que hemos obtenido hasta ahora en el curso. \n",
    "2. La segunda parte es práctica, como lo que se ha venido haciendo en las tareas. En esta parte deberás importar un archivo donde se encuentran reportados los precios ajustados en el cierre de compañías en una base mensual, deberás caracterizar los rendimientos y con base en ello construir fronteras media-varianza bajo ciertas condiciones. Finalmente deberás concluir de los resultados.\n",
    "\n",
    "**Criterio de revisión.**\n",
    "> Primera parte: tiene un valor del 40% del examen. Para la calificación, tenga en cuenta que se considerará el nivel de detalle de la demostración, la claridad en la redacción de la misma, así como la obtención del resultado en cuestión.\n",
    "\n",
    "> Segunda parte: tiene un valor del 60% del examen. Se te calificará de acuerdo a los resultados finales que reportes, basados en tu análisis.\n",
    "\n",
    "**Antes de comenzar.**\n",
    "> Por favor, nombrar este archivo *Examen1_ApellidoNombre*, sin acentos y sin espacios; por ejemplo, en mi caso el archivo se llamaría *Examen1_JimenezEsteban*. Resolver todos los puntos en dicho archivo y subir a moodle.\n",
    "___"
   ]
  },
  {
   "cell_type": "markdown",
   "metadata": {},
   "source": [
    "## I. Primera parte (40%)"
   ]
  },
  {
   "cell_type": "markdown",
   "metadata": {},
   "source": [
    "Sean $A_1,A_2,\\dots,A_n$ un conjunto de $n$ activos, y $w_1,w_2,\\dots,w_n$ los pesos respectivos de cada activo en el portafolio cuyo rendimiento en el escenario de la economía $j\\in\\{1,2,\\dots,m\\}$ es\n",
    "\n",
    "$$r_{P,j} = \\sum_{i=1}^{n}w_i r_{i,j}$$\n",
    "\n",
    "donde $r_{i,j}$ es el rendimiento del activo $i\\in\\{1,2,\\dots,n\\}$ en el escenario $j$.\n",
    "\n",
    "Demuestre, con todo nivel de detalle y claridad, que la volatilidad de los rendimientos de este portafolio está dada por\n",
    "\n",
    "$$\\sigma_P = \\sqrt{\\sum_{i=1}^{n}\\sum_{k=1}^{n} w_i w_k \\sigma_{i,k}}$$\n",
    "\n",
    "donde $\\sigma_{i,k}$ es la covarianza de los rendimientos del activo $i$ con los rendimientos del activo $k$.\n",
    "\n",
    "Rúbrica:\n",
    "1. Definición de todas las variables involucradas en la demostración (10%).\n",
    "2. Planteamiento correcto de las ecuaciones iniciales (10%).\n",
    "3. Obtención del resultado (20%).\n",
    " - Particularmente, para este resultado deberá llegar a la ecuación de la volatilidad del portafolio enunciada arriba."
   ]
  },
  {
   "cell_type": "markdown",
   "metadata": {},
   "source": [
    "___\n",
    "## II. Segunda parte (60%)"
   ]
  },
  {
   "cell_type": "markdown",
   "metadata": {},
   "source": [
    "**Punto 1 (15%).** En los archivos `data_mx.csv` y `data_us.csv` se encuentran reportados los **precios mensuales ajustados en el cierre** de los activos de Grupo Financiero Banorte, Grupo Financiero Inbursa, Grupo Aeroportuario del Pacífico y Herdez, y Microsoft, Apple, Coca-Cola y Nike, respectivamente, desde inicios del 2012 hasta el úlimo mes reportado.\n",
    "\n",
    "1. Importar los **precios de mensuales** de las compañías <font color=red>mexicanas</font> en un **DataFrame indizado por fecha** (5%): \n",
    " - Mostrar la gráfica de estos precios.\n",
    " - Obtener un DataFrame con los **rendimientos porcentuales mensuales** para estos activos. Mostrar la gráfica de rendimientos.\n",
    " \n",
    "2. Reportar en un **DataFrame el rendimiento esperado mensual y la volatilidad mensual** para cada uno de estos activos. Calcular las matrices de varianza-covarianza (**base mensual**) y de correlación (**base mensual**) para estos activos (5%).\n",
    "\n",
    "3. De acuerdo a lo obtenido en el punto anterior, elija el par de activos que le ofrezca **la mejor oportunidad para diversificar**. Con estos activos seguirá trabajando en el resto del examen. **Escriba claramente qué activos seleccionó en una celda tipo markdown** (5%)."
   ]
  },
  {
   "cell_type": "code",
   "execution_count": 2,
   "metadata": {},
   "outputs": [],
   "source": [
    "#Importamos librerías\n",
    "import pandas as pd\n",
    "import pandas_datareader.data as web\n",
    "import numpy as np\n",
    "import scipy.optimize as opt\n",
    "import matplotlib.pyplot as plt\n",
    "import scipy.optimize as opt\n",
    "%matplotlib inline"
   ]
  },
  {
   "cell_type": "code",
   "execution_count": 3,
   "metadata": {},
   "outputs": [
    {
     "ename": "FileNotFoundError",
     "evalue": "[Errno 2] File b'..\\\\Examen1G1\\\\data_mx.csv' does not exist: b'..\\\\Examen1G1\\\\data_mx.csv'",
     "output_type": "error",
     "traceback": [
      "\u001b[1;31m---------------------------------------------------------------------------\u001b[0m",
      "\u001b[1;31mFileNotFoundError\u001b[0m                         Traceback (most recent call last)",
      "\u001b[1;32m<ipython-input-3-221d334dde62>\u001b[0m in \u001b[0;36m<module>\u001b[1;34m\u001b[0m\n\u001b[0;32m      1\u001b[0m \u001b[1;31m#1. creamos DataFrame de las compañias mexicanas\u001b[0m\u001b[1;33m\u001b[0m\u001b[1;33m\u001b[0m\u001b[1;33m\u001b[0m\u001b[0m\n\u001b[1;32m----> 2\u001b[1;33m \u001b[0mdata\u001b[0m\u001b[1;33m=\u001b[0m \u001b[0mpd\u001b[0m\u001b[1;33m.\u001b[0m\u001b[0mread_csv\u001b[0m\u001b[1;33m(\u001b[0m\u001b[1;34m'..\\Examen1G1\\data_mx.csv'\u001b[0m\u001b[1;33m,\u001b[0m \u001b[0mindex_col\u001b[0m\u001b[1;33m=\u001b[0m \u001b[1;34m'Date'\u001b[0m\u001b[1;33m)\u001b[0m\u001b[1;33m\u001b[0m\u001b[1;33m\u001b[0m\u001b[0m\n\u001b[0m\u001b[0;32m      3\u001b[0m \u001b[0mdata\u001b[0m\u001b[1;33m.\u001b[0m\u001b[0mhead\u001b[0m\u001b[1;33m(\u001b[0m\u001b[1;33m)\u001b[0m\u001b[1;33m\u001b[0m\u001b[1;33m\u001b[0m\u001b[0m\n",
      "\u001b[1;32m~\\AppData\\Local\\Continuum\\anaconda3\\lib\\site-packages\\pandas\\io\\parsers.py\u001b[0m in \u001b[0;36mparser_f\u001b[1;34m(filepath_or_buffer, sep, delimiter, header, names, index_col, usecols, squeeze, prefix, mangle_dupe_cols, dtype, engine, converters, true_values, false_values, skipinitialspace, skiprows, skipfooter, nrows, na_values, keep_default_na, na_filter, verbose, skip_blank_lines, parse_dates, infer_datetime_format, keep_date_col, date_parser, dayfirst, cache_dates, iterator, chunksize, compression, thousands, decimal, lineterminator, quotechar, quoting, doublequote, escapechar, comment, encoding, dialect, error_bad_lines, warn_bad_lines, delim_whitespace, low_memory, memory_map, float_precision)\u001b[0m\n\u001b[0;32m    683\u001b[0m         )\n\u001b[0;32m    684\u001b[0m \u001b[1;33m\u001b[0m\u001b[0m\n\u001b[1;32m--> 685\u001b[1;33m         \u001b[1;32mreturn\u001b[0m \u001b[0m_read\u001b[0m\u001b[1;33m(\u001b[0m\u001b[0mfilepath_or_buffer\u001b[0m\u001b[1;33m,\u001b[0m \u001b[0mkwds\u001b[0m\u001b[1;33m)\u001b[0m\u001b[1;33m\u001b[0m\u001b[1;33m\u001b[0m\u001b[0m\n\u001b[0m\u001b[0;32m    686\u001b[0m \u001b[1;33m\u001b[0m\u001b[0m\n\u001b[0;32m    687\u001b[0m     \u001b[0mparser_f\u001b[0m\u001b[1;33m.\u001b[0m\u001b[0m__name__\u001b[0m \u001b[1;33m=\u001b[0m \u001b[0mname\u001b[0m\u001b[1;33m\u001b[0m\u001b[1;33m\u001b[0m\u001b[0m\n",
      "\u001b[1;32m~\\AppData\\Local\\Continuum\\anaconda3\\lib\\site-packages\\pandas\\io\\parsers.py\u001b[0m in \u001b[0;36m_read\u001b[1;34m(filepath_or_buffer, kwds)\u001b[0m\n\u001b[0;32m    455\u001b[0m \u001b[1;33m\u001b[0m\u001b[0m\n\u001b[0;32m    456\u001b[0m     \u001b[1;31m# Create the parser.\u001b[0m\u001b[1;33m\u001b[0m\u001b[1;33m\u001b[0m\u001b[1;33m\u001b[0m\u001b[0m\n\u001b[1;32m--> 457\u001b[1;33m     \u001b[0mparser\u001b[0m \u001b[1;33m=\u001b[0m \u001b[0mTextFileReader\u001b[0m\u001b[1;33m(\u001b[0m\u001b[0mfp_or_buf\u001b[0m\u001b[1;33m,\u001b[0m \u001b[1;33m**\u001b[0m\u001b[0mkwds\u001b[0m\u001b[1;33m)\u001b[0m\u001b[1;33m\u001b[0m\u001b[1;33m\u001b[0m\u001b[0m\n\u001b[0m\u001b[0;32m    458\u001b[0m \u001b[1;33m\u001b[0m\u001b[0m\n\u001b[0;32m    459\u001b[0m     \u001b[1;32mif\u001b[0m \u001b[0mchunksize\u001b[0m \u001b[1;32mor\u001b[0m \u001b[0miterator\u001b[0m\u001b[1;33m:\u001b[0m\u001b[1;33m\u001b[0m\u001b[1;33m\u001b[0m\u001b[0m\n",
      "\u001b[1;32m~\\AppData\\Local\\Continuum\\anaconda3\\lib\\site-packages\\pandas\\io\\parsers.py\u001b[0m in \u001b[0;36m__init__\u001b[1;34m(self, f, engine, **kwds)\u001b[0m\n\u001b[0;32m    893\u001b[0m             \u001b[0mself\u001b[0m\u001b[1;33m.\u001b[0m\u001b[0moptions\u001b[0m\u001b[1;33m[\u001b[0m\u001b[1;34m\"has_index_names\"\u001b[0m\u001b[1;33m]\u001b[0m \u001b[1;33m=\u001b[0m \u001b[0mkwds\u001b[0m\u001b[1;33m[\u001b[0m\u001b[1;34m\"has_index_names\"\u001b[0m\u001b[1;33m]\u001b[0m\u001b[1;33m\u001b[0m\u001b[1;33m\u001b[0m\u001b[0m\n\u001b[0;32m    894\u001b[0m \u001b[1;33m\u001b[0m\u001b[0m\n\u001b[1;32m--> 895\u001b[1;33m         \u001b[0mself\u001b[0m\u001b[1;33m.\u001b[0m\u001b[0m_make_engine\u001b[0m\u001b[1;33m(\u001b[0m\u001b[0mself\u001b[0m\u001b[1;33m.\u001b[0m\u001b[0mengine\u001b[0m\u001b[1;33m)\u001b[0m\u001b[1;33m\u001b[0m\u001b[1;33m\u001b[0m\u001b[0m\n\u001b[0m\u001b[0;32m    896\u001b[0m \u001b[1;33m\u001b[0m\u001b[0m\n\u001b[0;32m    897\u001b[0m     \u001b[1;32mdef\u001b[0m \u001b[0mclose\u001b[0m\u001b[1;33m(\u001b[0m\u001b[0mself\u001b[0m\u001b[1;33m)\u001b[0m\u001b[1;33m:\u001b[0m\u001b[1;33m\u001b[0m\u001b[1;33m\u001b[0m\u001b[0m\n",
      "\u001b[1;32m~\\AppData\\Local\\Continuum\\anaconda3\\lib\\site-packages\\pandas\\io\\parsers.py\u001b[0m in \u001b[0;36m_make_engine\u001b[1;34m(self, engine)\u001b[0m\n\u001b[0;32m   1133\u001b[0m     \u001b[1;32mdef\u001b[0m \u001b[0m_make_engine\u001b[0m\u001b[1;33m(\u001b[0m\u001b[0mself\u001b[0m\u001b[1;33m,\u001b[0m \u001b[0mengine\u001b[0m\u001b[1;33m=\u001b[0m\u001b[1;34m\"c\"\u001b[0m\u001b[1;33m)\u001b[0m\u001b[1;33m:\u001b[0m\u001b[1;33m\u001b[0m\u001b[1;33m\u001b[0m\u001b[0m\n\u001b[0;32m   1134\u001b[0m         \u001b[1;32mif\u001b[0m \u001b[0mengine\u001b[0m \u001b[1;33m==\u001b[0m \u001b[1;34m\"c\"\u001b[0m\u001b[1;33m:\u001b[0m\u001b[1;33m\u001b[0m\u001b[1;33m\u001b[0m\u001b[0m\n\u001b[1;32m-> 1135\u001b[1;33m             \u001b[0mself\u001b[0m\u001b[1;33m.\u001b[0m\u001b[0m_engine\u001b[0m \u001b[1;33m=\u001b[0m \u001b[0mCParserWrapper\u001b[0m\u001b[1;33m(\u001b[0m\u001b[0mself\u001b[0m\u001b[1;33m.\u001b[0m\u001b[0mf\u001b[0m\u001b[1;33m,\u001b[0m \u001b[1;33m**\u001b[0m\u001b[0mself\u001b[0m\u001b[1;33m.\u001b[0m\u001b[0moptions\u001b[0m\u001b[1;33m)\u001b[0m\u001b[1;33m\u001b[0m\u001b[1;33m\u001b[0m\u001b[0m\n\u001b[0m\u001b[0;32m   1136\u001b[0m         \u001b[1;32melse\u001b[0m\u001b[1;33m:\u001b[0m\u001b[1;33m\u001b[0m\u001b[1;33m\u001b[0m\u001b[0m\n\u001b[0;32m   1137\u001b[0m             \u001b[1;32mif\u001b[0m \u001b[0mengine\u001b[0m \u001b[1;33m==\u001b[0m \u001b[1;34m\"python\"\u001b[0m\u001b[1;33m:\u001b[0m\u001b[1;33m\u001b[0m\u001b[1;33m\u001b[0m\u001b[0m\n",
      "\u001b[1;32m~\\AppData\\Local\\Continuum\\anaconda3\\lib\\site-packages\\pandas\\io\\parsers.py\u001b[0m in \u001b[0;36m__init__\u001b[1;34m(self, src, **kwds)\u001b[0m\n\u001b[0;32m   1915\u001b[0m         \u001b[0mkwds\u001b[0m\u001b[1;33m[\u001b[0m\u001b[1;34m\"usecols\"\u001b[0m\u001b[1;33m]\u001b[0m \u001b[1;33m=\u001b[0m \u001b[0mself\u001b[0m\u001b[1;33m.\u001b[0m\u001b[0musecols\u001b[0m\u001b[1;33m\u001b[0m\u001b[1;33m\u001b[0m\u001b[0m\n\u001b[0;32m   1916\u001b[0m \u001b[1;33m\u001b[0m\u001b[0m\n\u001b[1;32m-> 1917\u001b[1;33m         \u001b[0mself\u001b[0m\u001b[1;33m.\u001b[0m\u001b[0m_reader\u001b[0m \u001b[1;33m=\u001b[0m \u001b[0mparsers\u001b[0m\u001b[1;33m.\u001b[0m\u001b[0mTextReader\u001b[0m\u001b[1;33m(\u001b[0m\u001b[0msrc\u001b[0m\u001b[1;33m,\u001b[0m \u001b[1;33m**\u001b[0m\u001b[0mkwds\u001b[0m\u001b[1;33m)\u001b[0m\u001b[1;33m\u001b[0m\u001b[1;33m\u001b[0m\u001b[0m\n\u001b[0m\u001b[0;32m   1918\u001b[0m         \u001b[0mself\u001b[0m\u001b[1;33m.\u001b[0m\u001b[0munnamed_cols\u001b[0m \u001b[1;33m=\u001b[0m \u001b[0mself\u001b[0m\u001b[1;33m.\u001b[0m\u001b[0m_reader\u001b[0m\u001b[1;33m.\u001b[0m\u001b[0munnamed_cols\u001b[0m\u001b[1;33m\u001b[0m\u001b[1;33m\u001b[0m\u001b[0m\n\u001b[0;32m   1919\u001b[0m \u001b[1;33m\u001b[0m\u001b[0m\n",
      "\u001b[1;32mpandas\\_libs\\parsers.pyx\u001b[0m in \u001b[0;36mpandas._libs.parsers.TextReader.__cinit__\u001b[1;34m()\u001b[0m\n",
      "\u001b[1;32mpandas\\_libs\\parsers.pyx\u001b[0m in \u001b[0;36mpandas._libs.parsers.TextReader._setup_parser_source\u001b[1;34m()\u001b[0m\n",
      "\u001b[1;31mFileNotFoundError\u001b[0m: [Errno 2] File b'..\\\\Examen1G1\\\\data_mx.csv' does not exist: b'..\\\\Examen1G1\\\\data_mx.csv'"
     ]
    }
   ],
   "source": [
    "#1. creamos DataFrame de las compañias mexicanas\n",
    "data= pd.read_csv('..\\Examen1G1\\data_mx.csv', index_col= 'Date')\n",
    "data.head()"
   ]
  },
  {
   "cell_type": "code",
   "execution_count": null,
   "metadata": {},
   "outputs": [],
   "source": []
  },
  {
   "cell_type": "code",
   "execution_count": null,
   "metadata": {},
   "outputs": [],
   "source": []
  },
  {
   "cell_type": "code",
   "execution_count": null,
   "metadata": {},
   "outputs": [],
   "source": []
  },
  {
   "cell_type": "code",
   "execution_count": null,
   "metadata": {},
   "outputs": [],
   "source": []
  },
  {
   "cell_type": "markdown",
   "metadata": {},
   "source": [
    "**Punto 2 (20%).** Usando los datos que obtuvo para los **activos que seleccionó** en el punto anterior:\n",
    "\n",
    "1. Construya la frontera de mínima varianza que representa las posibles combinaciones de portafolios que se pueden crear con los activos que **seleccionó en el primer punto**. Reportar los **rendimientos esperados y las volatilidades de estos portafolios (base mensual) en un DataFrame** (10%).\n",
    "\n",
    "2. Encontrar los pesos del portafolio de mínima varianza. Reportar el **rendimiento esperado mensual y la volatilidad mensual del portafolio de mínima varianza** (10%)."
   ]
  },
  {
   "cell_type": "code",
   "execution_count": null,
   "metadata": {},
   "outputs": [],
   "source": []
  },
  {
   "cell_type": "code",
   "execution_count": null,
   "metadata": {},
   "outputs": [],
   "source": []
  },
  {
   "cell_type": "code",
   "execution_count": null,
   "metadata": {},
   "outputs": [],
   "source": []
  },
  {
   "cell_type": "code",
   "execution_count": null,
   "metadata": {},
   "outputs": [],
   "source": []
  },
  {
   "cell_type": "code",
   "execution_count": null,
   "metadata": {},
   "outputs": [],
   "source": []
  },
  {
   "cell_type": "markdown",
   "metadata": {},
   "source": [
    "**Punto 3 (15%).** En este punto se usarán los mismos **activos que seleccionó** en el punto 1 con sus rendimientos esperados y volatilidades, solo que **el coeficiente de correlación entre sus rendimientos se supondrá de 0.5**.\n",
    "\n",
    "1. Nuevamente, construya la frontera de mínima varianza para estos dos activos **con el nuevo supuesto de correlación**. Reportar **los rendimientos esperados y las volatilidades de estos portafolios en un DataFrame** (8%).\n",
    "2. Encontrar los pesos del portafolio de mínima varianza. Reportar el **rendimiento esperado mensual y la volatilidad mensual del portafolio de mínima varianza** (7%)."
   ]
  },
  {
   "cell_type": "code",
   "execution_count": null,
   "metadata": {},
   "outputs": [],
   "source": []
  },
  {
   "cell_type": "code",
   "execution_count": null,
   "metadata": {},
   "outputs": [],
   "source": []
  },
  {
   "cell_type": "code",
   "execution_count": null,
   "metadata": {},
   "outputs": [],
   "source": []
  },
  {
   "cell_type": "code",
   "execution_count": null,
   "metadata": {},
   "outputs": [],
   "source": []
  },
  {
   "cell_type": "code",
   "execution_count": null,
   "metadata": {},
   "outputs": [],
   "source": []
  },
  {
   "cell_type": "markdown",
   "metadata": {},
   "source": [
    "**Punto 4 (10%).** \n",
    "\n",
    "1. Usando sus respuestas para los puntos 2 y 3, **grafique las dos fronteras encontradas en una sola gráfica**, además de los puntos correspondientes a los activos individuales, y de **los portafolios de mínima varianza para cada caso**, donde el eje $x$ es la volatilidad y el eje $y$ el rendimiento esperado. Asegúrese de etiquetar todo y poner distintos colores para diferenciar los distintos elementos en su gráfico (5%).\n",
    "2. Concluya acerca de la gráfica de las dos fronteras de mínima varianza. ¿Cuál provee más diversificación?, ¿cómo se diferencian?, **¿son diferentes los pesos de los dos portafolios de varianza mínima en cada caso?**, **¿cómo puede explicar esta diferencia/similitud?** (5%)."
   ]
  },
  {
   "cell_type": "code",
   "execution_count": null,
   "metadata": {},
   "outputs": [],
   "source": []
  },
  {
   "cell_type": "code",
   "execution_count": null,
   "metadata": {},
   "outputs": [],
   "source": []
  },
  {
   "cell_type": "code",
   "execution_count": null,
   "metadata": {},
   "outputs": [],
   "source": []
  },
  {
   "cell_type": "code",
   "execution_count": null,
   "metadata": {},
   "outputs": [],
   "source": []
  },
  {
   "cell_type": "code",
   "execution_count": null,
   "metadata": {},
   "outputs": [],
   "source": []
  },
  {
   "cell_type": "markdown",
   "metadata": {},
   "source": [
    "<script>\n",
    "  $(document).ready(function(){\n",
    "    $('div.prompt').hide();\n",
    "    $('div.back-to-top').hide();\n",
    "    $('nav#menubar').hide();\n",
    "    $('.breadcrumb').hide();\n",
    "    $('.hidden-print').hide();\n",
    "  });\n",
    "</script>\n",
    "\n",
    "<footer id=\"attribution\" style=\"float:right; color:#808080; background:#fff;\">\n",
    "Created with Jupyter by Esteban Jiménez Rodríguez.\n",
    "</footer>"
   ]
  }
 ],
 "metadata": {
  "kernelspec": {
   "display_name": "Python 3",
   "language": "python",
   "name": "python3"
  },
  "language_info": {
   "codemirror_mode": {
    "name": "ipython",
    "version": 3
   },
   "file_extension": ".py",
   "mimetype": "text/x-python",
   "name": "python",
   "nbconvert_exporter": "python",
   "pygments_lexer": "ipython3",
   "version": "3.7.4"
  }
 },
 "nbformat": 4,
 "nbformat_minor": 2
}
