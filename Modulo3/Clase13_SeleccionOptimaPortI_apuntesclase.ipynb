{
 "cells": [
  {
   "cell_type": "markdown",
   "metadata": {},
   "source": [
    "# Selección óptima de portafolios I\n",
    "\n",
    "<img style=\"float: right; margin: 0px 0px 15px 15px;\" src=\"https://upload.wikimedia.org/wikipedia/commons/thumb/6/6e/Separation_theorem_of_MPT.svg/2000px-Separation_theorem_of_MPT.svg.png\" width=\"400px\" height=\"400px\" />\n",
    "\n",
    "En la clase pasada vimos que:\n",
    "- La LAC describe las posibles selecciones de riesgo-rendimiento entre un activo libre de riesgo y un activo riesgoso.\n",
    "- Su pendiente es igual al radio de Sharpe del activo riesgoso.\n",
    "- La asignación óptima de capital para cualquier inversionista es el punto tangente de la curva de indiferencia del inversionista con la LAC (depende de las preferencias particulares - aversión al riesgo).\n",
    "\n",
    "Para todo lo anterior, supusimos que ya teníamos el portafolio óptimo (activo riesgoso).\n",
    "\n",
    "En el siguiente análisis:\n",
    " \n",
    "\n",
    "**Objetivos:**\n",
    "- ¿Cuál es el portafolio óptimo de activos riesgosos?\n",
    " - ¿Cuál es el mejor portafolio de activos riesgosos?\n",
    " - Es un portafolio eficiente en media-varianza.\n",
    "- Problema: dado un conjunto de activos riesgosos, ¿cómo construimos la mejor combinación?\n",
    "\n",
    "*Referencia:*\n",
    "- Notas del curso \"Portfolio Selection and Risk Management\", Rice University, disponible en Coursera.\n",
    "___ "
   ]
  },
  {
   "cell_type": "markdown",
   "metadata": {},
   "source": [
    "## 1. Maximizando el radio de Sharpe\n",
    "\n",
    "### ¿Qué pasa si tenemos dos activos riesgosos?\n",
    "\n",
    "Cuando tenemos dos o más activos riesgosos, tenemos disponibles diferentes LAC. ¿Qué significan sus pendientes?\n",
    "\n",
    "<font color=blue> Ver en el tablero.</font>\n",
    "\n",
    "Pregunta:\n",
    "- ¿Qué es lo que se quiere?"
   ]
  },
  {
   "cell_type": "markdown",
   "metadata": {},
   "source": [
    "**Conclusión:** \n",
    "- El mejor portafolio de activos no depende de las preferencias individuales, y por tanto va a ser igual para todos.\n",
    "- Dicho mejor portafolio maximiza el radio de Sharpe.\n",
    "- A este portafolio lo llamaremos el portafolio eficiente en media-varianza (EMV)"
   ]
  },
  {
   "cell_type": "markdown",
   "metadata": {},
   "source": [
    "**Idea principal: el portafolio óptimo de activos riesgosos es independiente de las preferencias del inversionista.** \n",
    "- El portafolio EMV determina el portafolio óptimo de activos riesgosos.\n",
    "- Todos tendremos el mismo portafolio de activos riesgosos (EMV), y lo combinaremos con el activo libre de reisgo de acuerdo con las preferencias de cada uno de nosotros (aversión al riesgo).\n",
    "- La LAC combinando el activo libre de riesgo y el portafolio EMV, se vuelve el conjunto de portafolios eficientes."
   ]
  },
  {
   "cell_type": "markdown",
   "metadata": {},
   "source": [
    "Entonces, se deben seguir los siguientes pasos:\n",
    "1. Crear la frontera media-varianza.\n",
    "2. Encontrar el portafolio que maximize el radio de Sharpe (portafolio EMV).\n",
    "3. Construir la frontera eficiente (LAC) del punto $(0,r_f)$ al punto $(\\sigma_s,E[r_s])$ del portafolio EMV.\n",
    "4. Combinar de acuerdo a sus preferencias.\n",
    "___"
   ]
  },
  {
   "cell_type": "markdown",
   "metadata": {},
   "source": [
    "## 2. Solución analítica del portafolio EMV: caso con dos activos.\n",
    "\n",
    "Queremos solucionar el siguiente problema:\n",
    "\n",
    "\\begin{align}\n",
    "\\max_{w_1,w_2} &\\quad \\frac{E[r_p]-r_f}{\\sigma_p}\\\\\n",
    "\\text{s.a.}    &\\quad E[r_p]=w_1E[r_1]+w_2E[r_2]\\\\\n",
    "               &\\quad \\sigma_p=\\sqrt{w_1^2\\sigma_1^2+w_2^2\\sigma_2^2+2w_1w_2\\rho_{12}\\sigma_1\\sigma_2}\\\\\n",
    "               &\\quad w_1+w_2=1, \\quad w_1,w_2\\geq0\n",
    "\\end{align}"
   ]
  },
  {
   "cell_type": "markdown",
   "metadata": {},
   "source": [
    "el cual es equivalente a\n",
    "\n",
    "\\begin{align}\n",
    "\\max_{w_1} &\\quad \\frac{w_1E[r_1]+(1-w_1)E[r_2]-r_f}{\\sqrt{w_1^2\\sigma_1^2+(1-w_1)^2\\sigma_2^2+2w_1(1-w_1)\\rho_{12}\\sigma_1\\sigma_2}}\\\\\n",
    "\\text{s.a.}    &\\quad 0\\leq w_1\\leq1\n",
    "\\end{align}"
   ]
  },
  {
   "cell_type": "markdown",
   "metadata": {},
   "source": [
    "**Actividad.**\n",
    "El anterior es un problema de maximizar una función de una variable en un dominio cerrado. No debaría representar dificultad.\n",
    "\n",
    "Encontrar la solución analítica a este problema.\n",
    "\n",
    "Quien primero lo haga, y salga a explicarlo al tablero, le subo alguna tarea o quiz a 100.\n",
    "\n",
    "Deben llegar a:\n",
    "\n",
    "$$w_{1,EMV}=\\frac{(E[r_1]-r_f)\\sigma_2^2-(E[r_2]-r_f)\\sigma_{12}}{(E[r_2]-r_f)\\sigma_1^2+(E[r_1]-r_f)\\sigma_2^2-((E[r_1]-r_f)+(E[r_2]-r_f))\\sigma_{12}}.$$"
   ]
  },
  {
   "cell_type": "markdown",
   "metadata": {},
   "source": [
    "Si nadie lo ha hecho en 30 min., procederé a hacerlo yo.\n",
    "\n",
    "**Nota:** \n",
    "- así como obtuvimos una expresión para el peso del portafolio de mínima varianza con dos activos, obtenemos una expresión para el peso del portafolio Eficiente en Media-Varianza. \n",
    "- Estas actividades son sin duda un buen ejercicio, y se pueden replicar usando técnicas de varias variables (multiplicadores de Lagrange) cuando se tengan más de dos activos.\n",
    "- Sin embargo, la complejidad del problema crece considerablemente con el número de variables, y la solución analítica deja de ser viable cuando mencionamos que un portafolio bien diversificado consta aproximadamente de 50-60 activos.\n",
    "- En esos casos, este problema se soluciona con rutinas numéricas que hagan la optimización por nosotros.\n",
    "- Por eso, les enseño cómo resolver este problema con optimizadores numéricos, porque son una solución viable y escalable a más variables."
   ]
  },
  {
   "cell_type": "markdown",
   "metadata": {},
   "source": [
    "## 3. Ejemplo ilustrativo.\n",
    "\n",
    "Retomamos el ejemplo de mercados de acciones en los países integrantes del $G5$: EU, RU, Francia, Alemania y Japón."
   ]
  },
  {
   "cell_type": "code",
   "execution_count": 1,
   "metadata": {},
   "outputs": [],
   "source": [
    "# Importamos pandas y numpy\n",
    "import pandas as pd\n",
    "import numpy as np"
   ]
  },
  {
   "cell_type": "code",
   "execution_count": 2,
   "metadata": {},
   "outputs": [
    {
     "data": {
      "text/html": [
       "<div>\n",
       "<style scoped>\n",
       "    .dataframe tbody tr th:only-of-type {\n",
       "        vertical-align: middle;\n",
       "    }\n",
       "\n",
       "    .dataframe tbody tr th {\n",
       "        vertical-align: top;\n",
       "    }\n",
       "\n",
       "    .dataframe thead th {\n",
       "        text-align: right;\n",
       "    }\n",
       "</style>\n",
       "<table border=\"1\" class=\"dataframe\">\n",
       "  <thead>\n",
       "    <tr style=\"text-align: right;\">\n",
       "      <th></th>\n",
       "      <th>EU</th>\n",
       "      <th>RU</th>\n",
       "      <th>Francia</th>\n",
       "      <th>Alemania</th>\n",
       "      <th>Japon</th>\n",
       "    </tr>\n",
       "  </thead>\n",
       "  <tbody>\n",
       "    <tr>\n",
       "      <th>Media</th>\n",
       "      <td>0.1355</td>\n",
       "      <td>0.1589</td>\n",
       "      <td>0.1519</td>\n",
       "      <td>0.1435</td>\n",
       "      <td>0.1497</td>\n",
       "    </tr>\n",
       "    <tr>\n",
       "      <th>Volatilidad</th>\n",
       "      <td>0.1535</td>\n",
       "      <td>0.243</td>\n",
       "      <td>0.2324</td>\n",
       "      <td>0.2038</td>\n",
       "      <td>0.2298</td>\n",
       "    </tr>\n",
       "  </tbody>\n",
       "</table>\n",
       "</div>"
      ],
      "text/plain": [
       "                 EU      RU Francia Alemania   Japon\n",
       "Media        0.1355  0.1589  0.1519   0.1435  0.1497\n",
       "Volatilidad  0.1535   0.243  0.2324   0.2038  0.2298"
      ]
     },
     "execution_count": 2,
     "metadata": {},
     "output_type": "execute_result"
    }
   ],
   "source": [
    "# Resumen en base anual de rendimientos esperados y volatilidades\n",
    "annual_ret_summ = pd.DataFrame(columns=['EU', 'RU', 'Francia', 'Alemania', 'Japon'], index=['Media', 'Volatilidad'])\n",
    "annual_ret_summ.loc['Media'] = np.array([0.1355, 0.1589, 0.1519, 0.1435, 0.1497])\n",
    "annual_ret_summ.loc['Volatilidad'] = np.array([0.1535, 0.2430, 0.2324, 0.2038, 0.2298])\n",
    "\n",
    "annual_ret_summ.round(4)"
   ]
  },
  {
   "cell_type": "code",
   "execution_count": 3,
   "metadata": {},
   "outputs": [
    {
     "data": {
      "text/html": [
       "<div>\n",
       "<style scoped>\n",
       "    .dataframe tbody tr th:only-of-type {\n",
       "        vertical-align: middle;\n",
       "    }\n",
       "\n",
       "    .dataframe tbody tr th {\n",
       "        vertical-align: top;\n",
       "    }\n",
       "\n",
       "    .dataframe thead th {\n",
       "        text-align: right;\n",
       "    }\n",
       "</style>\n",
       "<table border=\"1\" class=\"dataframe\">\n",
       "  <thead>\n",
       "    <tr style=\"text-align: right;\">\n",
       "      <th></th>\n",
       "      <th>EU</th>\n",
       "      <th>RU</th>\n",
       "      <th>Francia</th>\n",
       "      <th>Alemania</th>\n",
       "      <th>Japon</th>\n",
       "    </tr>\n",
       "  </thead>\n",
       "  <tbody>\n",
       "    <tr>\n",
       "      <th>EU</th>\n",
       "      <td>1.0000</td>\n",
       "      <td>0.5003</td>\n",
       "      <td>0.4398</td>\n",
       "      <td>0.3681</td>\n",
       "      <td>0.2663</td>\n",
       "    </tr>\n",
       "    <tr>\n",
       "      <th>RU</th>\n",
       "      <td>0.5003</td>\n",
       "      <td>1.0000</td>\n",
       "      <td>0.5420</td>\n",
       "      <td>0.4265</td>\n",
       "      <td>0.3581</td>\n",
       "    </tr>\n",
       "    <tr>\n",
       "      <th>Francia</th>\n",
       "      <td>0.4398</td>\n",
       "      <td>0.5420</td>\n",
       "      <td>1.0000</td>\n",
       "      <td>0.6032</td>\n",
       "      <td>0.3923</td>\n",
       "    </tr>\n",
       "    <tr>\n",
       "      <th>Alemania</th>\n",
       "      <td>0.3681</td>\n",
       "      <td>0.4265</td>\n",
       "      <td>0.6032</td>\n",
       "      <td>1.0000</td>\n",
       "      <td>0.3663</td>\n",
       "    </tr>\n",
       "    <tr>\n",
       "      <th>Japon</th>\n",
       "      <td>0.2663</td>\n",
       "      <td>0.3581</td>\n",
       "      <td>0.3923</td>\n",
       "      <td>0.3663</td>\n",
       "      <td>1.0000</td>\n",
       "    </tr>\n",
       "  </tbody>\n",
       "</table>\n",
       "</div>"
      ],
      "text/plain": [
       "              EU      RU  Francia  Alemania   Japon\n",
       "EU        1.0000  0.5003   0.4398    0.3681  0.2663\n",
       "RU        0.5003  1.0000   0.5420    0.4265  0.3581\n",
       "Francia   0.4398  0.5420   1.0000    0.6032  0.3923\n",
       "Alemania  0.3681  0.4265   0.6032    1.0000  0.3663\n",
       "Japon     0.2663  0.3581   0.3923    0.3663  1.0000"
      ]
     },
     "execution_count": 3,
     "metadata": {},
     "output_type": "execute_result"
    }
   ],
   "source": [
    "# Matriz de correlación\n",
    "corr = pd.DataFrame(data= np.array([[1.0000, 0.5003, 0.4398, 0.3681, 0.2663],\n",
    "                                    [0.5003, 1.0000, 0.5420, 0.4265, 0.3581],\n",
    "                                    [0.4398, 0.5420, 1.0000, 0.6032, 0.3923],\n",
    "                                    [0.3681, 0.4265, 0.6032, 1.0000, 0.3663],\n",
    "                                    [0.2663, 0.3581, 0.3923, 0.3663, 1.0000]]),\n",
    "                    columns=annual_ret_summ.columns, index=annual_ret_summ.columns)\n",
    "corr.round(4)"
   ]
  },
  {
   "cell_type": "markdown",
   "metadata": {},
   "source": [
    "Supondremos, además, que la tasa libre de riesgo es $r_f=5\\%$."
   ]
  },
  {
   "cell_type": "code",
   "execution_count": 4,
   "metadata": {},
   "outputs": [],
   "source": [
    "# Tasa libre de riesgo\n",
    "rf = .05"
   ]
  },
  {
   "cell_type": "markdown",
   "metadata": {},
   "source": [
    "Entonces, supondremos que tenemos disponibles los activos correspondientes a los mercados de acciones de EU y Japón, y en adición el activo libre de riesgo."
   ]
  },
  {
   "cell_type": "markdown",
   "metadata": {},
   "source": [
    "#### 1. Construir la frontera de mínima varianza"
   ]
  },
  {
   "cell_type": "code",
<<<<<<< HEAD:Modulo3/Clase13_SeleccionOptimaPortI_apuntesclase.ipynb
   "execution_count": 6,
=======
   "execution_count": 5,
>>>>>>> master:Modulo3/Clase13_SeleccionOptimaPortI.ipynb
   "metadata": {},
   "outputs": [
    {
     "data": {
      "text/plain": [
       "(0.1355, 0.1497, 0.1535, 0.2298, 0.2663, 0.00939354609)"
      ]
     },
<<<<<<< HEAD:Modulo3/Clase13_SeleccionOptimaPortI_apuntesclase.ipynb
     "execution_count": 6,
=======
     "execution_count": 5,
>>>>>>> master:Modulo3/Clase13_SeleccionOptimaPortI.ipynb
     "metadata": {},
     "output_type": "execute_result"
    }
   ],
   "source": [
    "# Vector de w variando entre 0 y 1 con n pasos\n",
    "N = 101\n",
    "w = np.linspace(0,1,N)\n",
    "# Rendimientos esperados individuales\n",
    "E1 = annual_ret_summ.loc['Media','EU']\n",
    "E2 = annual_ret_summ.loc['Media','Japon']\n",
    "# Activo1: EU, Activo2:Japon\n",
    "\n",
    "# Volatilidades individuales\n",
    "s1 = annual_ret_summ.loc['Volatilidad','EU']\n",
    "s2 = annual_ret_summ.loc['Volatilidad','Japon']\n",
    "# Correlacion\n",
    "r12 = corr.loc['EU','Japon']\n",
    "#Covarianza\n",
    "s12 = s1 * s2 * r12\n",
    "E1,E2,s1,s2,r12,s12"
   ]
  },
  {
   "cell_type": "code",
<<<<<<< HEAD:Modulo3/Clase13_SeleccionOptimaPortI_apuntesclase.ipynb
   "execution_count": 11,
=======
   "execution_count": 6,
>>>>>>> master:Modulo3/Clase13_SeleccionOptimaPortI.ipynb
   "metadata": {},
   "outputs": [
    {
     "data": {
      "text/html": [
       "<div>\n",
       "<style scoped>\n",
       "    .dataframe tbody tr th:only-of-type {\n",
       "        vertical-align: middle;\n",
       "    }\n",
       "\n",
       "    .dataframe tbody tr th {\n",
       "        vertical-align: top;\n",
       "    }\n",
       "\n",
       "    .dataframe thead th {\n",
       "        text-align: right;\n",
       "    }\n",
       "</style>\n",
       "<table border=\"1\" class=\"dataframe\">\n",
       "  <thead>\n",
       "    <tr style=\"text-align: right;\">\n",
       "      <th></th>\n",
       "      <th>w</th>\n",
       "      <th>1-w</th>\n",
       "      <th>Media</th>\n",
       "      <th>Volatilidad</th>\n",
       "      <th>RS</th>\n",
       "    </tr>\n",
       "  </thead>\n",
       "  <tbody>\n",
       "    <tr>\n",
       "      <th>0</th>\n",
       "      <td>0.00</td>\n",
       "      <td>1.00</td>\n",
       "      <td>0.149700</td>\n",
       "      <td>0.229800</td>\n",
       "      <td>0.433856</td>\n",
       "    </tr>\n",
       "    <tr>\n",
       "      <th>1</th>\n",
       "      <td>0.01</td>\n",
       "      <td>0.99</td>\n",
       "      <td>0.149558</td>\n",
       "      <td>0.227916</td>\n",
       "      <td>0.436820</td>\n",
       "    </tr>\n",
       "    <tr>\n",
       "      <th>2</th>\n",
       "      <td>0.02</td>\n",
       "      <td>0.98</td>\n",
       "      <td>0.149416</td>\n",
       "      <td>0.226041</td>\n",
       "      <td>0.439814</td>\n",
       "    </tr>\n",
       "    <tr>\n",
       "      <th>3</th>\n",
       "      <td>0.03</td>\n",
       "      <td>0.97</td>\n",
       "      <td>0.149274</td>\n",
       "      <td>0.224176</td>\n",
       "      <td>0.442839</td>\n",
       "    </tr>\n",
       "    <tr>\n",
       "      <th>4</th>\n",
       "      <td>0.04</td>\n",
       "      <td>0.96</td>\n",
       "      <td>0.149132</td>\n",
       "      <td>0.222322</td>\n",
       "      <td>0.445894</td>\n",
       "    </tr>\n",
       "    <tr>\n",
       "      <th>...</th>\n",
       "      <td>...</td>\n",
       "      <td>...</td>\n",
       "      <td>...</td>\n",
       "      <td>...</td>\n",
       "      <td>...</td>\n",
       "    </tr>\n",
       "    <tr>\n",
       "      <th>96</th>\n",
       "      <td>0.96</td>\n",
       "      <td>0.04</td>\n",
       "      <td>0.136068</td>\n",
       "      <td>0.150070</td>\n",
       "      <td>0.573521</td>\n",
       "    </tr>\n",
       "    <tr>\n",
       "      <th>97</th>\n",
       "      <td>0.97</td>\n",
       "      <td>0.03</td>\n",
       "      <td>0.135926</td>\n",
       "      <td>0.150877</td>\n",
       "      <td>0.569509</td>\n",
       "    </tr>\n",
       "    <tr>\n",
       "      <th>98</th>\n",
       "      <td>0.98</td>\n",
       "      <td>0.02</td>\n",
       "      <td>0.135784</td>\n",
       "      <td>0.151719</td>\n",
       "      <td>0.565415</td>\n",
       "    </tr>\n",
       "    <tr>\n",
       "      <th>99</th>\n",
       "      <td>0.99</td>\n",
       "      <td>0.01</td>\n",
       "      <td>0.135642</td>\n",
       "      <td>0.152593</td>\n",
       "      <td>0.561244</td>\n",
       "    </tr>\n",
       "    <tr>\n",
       "      <th>100</th>\n",
       "      <td>1.00</td>\n",
       "      <td>0.00</td>\n",
       "      <td>0.135500</td>\n",
       "      <td>0.153500</td>\n",
       "      <td>0.557003</td>\n",
       "    </tr>\n",
       "  </tbody>\n",
       "</table>\n",
       "<p>101 rows × 5 columns</p>\n",
       "</div>"
      ],
      "text/plain": [
       "        w   1-w     Media  Volatilidad        RS\n",
       "0    0.00  1.00  0.149700     0.229800  0.433856\n",
       "1    0.01  0.99  0.149558     0.227916  0.436820\n",
       "2    0.02  0.98  0.149416     0.226041  0.439814\n",
       "3    0.03  0.97  0.149274     0.224176  0.442839\n",
       "4    0.04  0.96  0.149132     0.222322  0.445894\n",
       "..    ...   ...       ...          ...       ...\n",
       "96   0.96  0.04  0.136068     0.150070  0.573521\n",
       "97   0.97  0.03  0.135926     0.150877  0.569509\n",
       "98   0.98  0.02  0.135784     0.151719  0.565415\n",
       "99   0.99  0.01  0.135642     0.152593  0.561244\n",
       "100  1.00  0.00  0.135500     0.153500  0.557003\n",
       "\n",
       "[101 rows x 5 columns]"
      ]
     },
<<<<<<< HEAD:Modulo3/Clase13_SeleccionOptimaPortI_apuntesclase.ipynb
     "execution_count": 11,
=======
     "execution_count": 6,
>>>>>>> master:Modulo3/Clase13_SeleccionOptimaPortI.ipynb
     "metadata": {},
     "output_type": "execute_result"
    }
   ],
   "source": [
    "# DataFrame de portafolios: \n",
    "# 1. Índice: i\n",
    "# 2. Columnas 1-2: w, 1-w\n",
    "# 3. Columnas 3-4: E[r], sigma\n",
    "# 4. Columna 5: Sharpe ratio\n",
    "portafolios = pd.DataFrame(index = range(N),\n",
    "                          data = {'w':w,\n",
    "                           '1-w':1-w,\n",
    "                          'Media': w* E1 + (1-w) * E2,\n",
    "                          'Volatilidad':((w*s1)**2+((1-w)*s2)**2+ 2*w*(1-w)*s1*s2*r12)**0.5})\n",
    "portafolios['RS'] = (portafolios['Media']-rf)/portafolios['Volatilidad']\n",
    "portafolios"
   ]
  },
  {
   "cell_type": "code",
<<<<<<< HEAD:Modulo3/Clase13_SeleccionOptimaPortI_apuntesclase.ipynb
   "execution_count": 20,
=======
   "execution_count": 7,
>>>>>>> master:Modulo3/Clase13_SeleccionOptimaPortI.ipynb
   "metadata": {},
   "outputs": [],
   "source": [
    "# Importar librerías de gráficos\n",
    "import matplotlib.pyplot as plt\n",
    "%matplotlib inline"
   ]
  },
  {
   "cell_type": "code",
<<<<<<< HEAD:Modulo3/Clase13_SeleccionOptimaPortI_apuntesclase.ipynb
   "execution_count": 23,
=======
   "execution_count": 8,
>>>>>>> master:Modulo3/Clase13_SeleccionOptimaPortI.ipynb
   "metadata": {},
   "outputs": [
    {
     "data": {
      "image/png": "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\n",
      "text/plain": [
       "<Figure size 432x288 with 2 Axes>"
      ]
     },
     "metadata": {
      "needs_background": "light"
     },
     "output_type": "display_data"
    }
   ],
   "source": [
    "# Gráfica de dispersión de puntos coloreando \n",
    "# de acuerdo a SR\n",
    "plt.figure(figsize=(6,4))\n",
    "plt.scatter(portafolios['Volatilidad'],portafolios['Media'],c = portafolios['RS'],cmap = 'RdYlBu')\n",
    "plt.colorbar()\n",
    "plt.xlabel('Volatilidad $\\sigma$ ')\n",
    "plt.ylabel('Rendimiento Esperado $E[r]$ ')\n",
    "plt.grid()"
   ]
  },
  {
   "cell_type": "markdown",
   "metadata": {},
   "source": [
    "#### 2. Encontrar el portafolio que maximiza el radio de Sharpe (EMV)"
   ]
  },
  {
   "cell_type": "markdown",
   "metadata": {},
   "source": [
    "$$w_{1,EMV}=\\frac{(E[r_1]-r_f)\\sigma_2^2-(E[r_2]-r_f)\\sigma_{12}}{(E[r_2]-r_f)\\sigma_1^2+(E[r_1]-r_f)\\sigma_2^2-((E[r_1]-r_f)+(E[r_2]-r_f))\\sigma_{12}}.$$"
   ]
  },
  {
   "cell_type": "markdown",
   "metadata": {},
   "source": [
    "Primero, encontramos este portafolio con la fórmula que obtuvimos:"
   ]
  },
  {
   "cell_type": "code",
   "execution_count": 26,
   "metadata": {},
   "outputs": [],
   "source": [
    "def EMV(E1,E2,s1,s2,rf,s12):\n",
    "    w1EMV = ((E1 - rf) * (s2**2) - (E2-rf) * s12) / ((E2-rf)*(s1**2) + (E1-rf)* s2**2- (E1-rf+E2-rf) * s12)\n",
    "    w2EMV = 1 - w1EMV\n",
    "    return (w1EMV,w2EMV)"
   ]
  },
  {
   "cell_type": "code",
<<<<<<< HEAD:Modulo3/Clase13_SeleccionOptimaPortI_apuntesclase.ipynb
   "execution_count": 28,
=======
   "execution_count": 9,
>>>>>>> master:Modulo3/Clase13_SeleccionOptimaPortI.ipynb
   "metadata": {},
   "outputs": [
    {
     "data": {
      "text/plain": [
       "(0.6983139170512034, 0.3016860829487966)"
      ]
     },
<<<<<<< HEAD:Modulo3/Clase13_SeleccionOptimaPortI_apuntesclase.ipynb
     "execution_count": 28,
     "metadata": {},
     "output_type": "execute_result"
    }
   ],
   "source": [
    "x = EMV(E1,E2,s1,s2,rf,s12)\n",
    "x"
   ]
  },
  {
   "cell_type": "code",
   "execution_count": 25,
   "metadata": {},
   "outputs": [
    {
     "data": {
      "text/plain": [
       "(0.6983139170512034, 0.3016860829487966)"
      ]
     },
     "execution_count": 25,
=======
     "execution_count": 9,
>>>>>>> master:Modulo3/Clase13_SeleccionOptimaPortI.ipynb
     "metadata": {},
     "output_type": "execute_result"
    }
   ],
   "source": [
    "# Fórmula que obtuvimos\n",
    "w1EMV = ((E1 - rf) * (s2**2) - (E2-rf) * s12) / ((E2-rf)*(s1**2) + (E1-rf)* s2**2- (E1-rf+E2-rf) * s12)\n",
    "\n",
    "w2EMV = 1- w1EMV\n",
    "w1EMV,w2EMV"
   ]
  },
  {
   "cell_type": "markdown",
   "metadata": {},
   "source": [
    "Ahora sí, con la función scipy.optimize.minimize"
   ]
  },
  {
   "cell_type": "code",
<<<<<<< HEAD:Modulo3/Clase13_SeleccionOptimaPortI_apuntesclase.ipynb
   "execution_count": null,
   "metadata": {},
   "outputs": [],
   "source": []
  },
  {
   "cell_type": "code",
   "execution_count": 31,
=======
   "execution_count": 10,
>>>>>>> master:Modulo3/Clase13_SeleccionOptimaPortI.ipynb
   "metadata": {},
   "outputs": [],
   "source": [
    "# Importar el módulo optimize\n",
    "from scipy.optimize import minimize"
   ]
  },
  {
   "cell_type": "code",
<<<<<<< HEAD:Modulo3/Clase13_SeleccionOptimaPortI_apuntesclase.ipynb
   "execution_count": 23,
   "metadata": {},
   "outputs": [],
   "source": [
    "## Construcción de parámetros\n",
    "## Activo 1: EU, Activo 2: Japon\n",
    "# 1. Sigma: matriz de varianza-covarianza\n",
    "\n",
    "# 2. Eind: rendimientos esperados activos individuales\n"
   ]
  },
  {
   "cell_type": "code",
   "execution_count": 39,
=======
   "execution_count": 11,
>>>>>>> master:Modulo3/Clase13_SeleccionOptimaPortI.ipynb
   "metadata": {},
   "outputs": [],
   "source": [
    "# Función objetivo (-SR)\n",
    "def minus_SR(w,E1,E2,s1,s2,s12,rf):\n",
    "    Es = w * E1 + (1-w) * E2\n",
    "    ss = ((w * s1)**2 + ((1-w) * s2)**2 + 2 * w * (1-w) * s12)**.5\n",
    "    SR = (Es - rf) / ss\n",
    "    return -SR"
   ]
  },
  {
   "cell_type": "code",
<<<<<<< HEAD:Modulo3/Clase13_SeleccionOptimaPortI_apuntesclase.ipynb
   "execution_count": 40,
=======
   "execution_count": 12,
>>>>>>> master:Modulo3/Clase13_SeleccionOptimaPortI.ipynb
   "metadata": {},
   "outputs": [],
   "source": [
    "# Dato inicial\n",
    "w0 = 0.5\n",
    "# Cotas de las variables\n",
    "bnds = ((0,1),)\n",
    "#bnds = ((0,1),(0,1))#\n",
    "# Restricciones\n"
   ]
  },
  {
   "cell_type": "code",
<<<<<<< HEAD:Modulo3/Clase13_SeleccionOptimaPortI_apuntesclase.ipynb
   "execution_count": 41,
=======
   "execution_count": 13,
>>>>>>> master:Modulo3/Clase13_SeleccionOptimaPortI.ipynb
   "metadata": {},
   "outputs": [
    {
     "data": {
      "text/plain": [
       "      fun: array([-0.63087253])\n",
       " hess_inv: <1x1 LbfgsInvHessProduct with dtype=float64>\n",
       "      jac: array([3.39728246e-06])\n",
       "  message: b'CONVERGENCE: NORM_OF_PROJECTED_GRADIENT_<=_PGTOL'\n",
       "     nfev: 10\n",
       "      nit: 4\n",
       "   status: 0\n",
       "  success: True\n",
       "        x: array([0.69831582])"
      ]
     },
<<<<<<< HEAD:Modulo3/Clase13_SeleccionOptimaPortI_apuntesclase.ipynb
     "execution_count": 41,
=======
     "execution_count": 13,
>>>>>>> master:Modulo3/Clase13_SeleccionOptimaPortI.ipynb
     "metadata": {},
     "output_type": "execute_result"
    }
   ],
   "source": [
    "# Optimización numérica\n",
    "res = minimize(fun=minus_SR,x0 = w0,args=(E1,E2,s1,s2,s12,rf),bounds = bnds)\n",
    "# Resultado\n",
    "res\n"
   ]
  },
  {
   "cell_type": "markdown",
   "metadata": {},
   "source": [
    "Con lo anterior, podemos obtener datos de rendimiento esperado y volatilidad del portafolio EMV"
   ]
  },
  {
   "cell_type": "code",
<<<<<<< HEAD:Modulo3/Clase13_SeleccionOptimaPortI_apuntesclase.ipynb
   "execution_count": 42,
=======
   "execution_count": 14,
>>>>>>> master:Modulo3/Clase13_SeleccionOptimaPortI.ipynb
   "metadata": {},
   "outputs": [
    {
     "data": {
      "text/plain": [
       "(array([0.69831582]),\n",
       " array([0.30168418]),\n",
       " 0.6983139170512034,\n",
       " 0.3016860829487966)"
      ]
     },
<<<<<<< HEAD:Modulo3/Clase13_SeleccionOptimaPortI_apuntesclase.ipynb
     "execution_count": 42,
=======
     "execution_count": 14,
>>>>>>> master:Modulo3/Clase13_SeleccionOptimaPortI.ipynb
     "metadata": {},
     "output_type": "execute_result"
    }
   ],
   "source": [
    "# Rendimiento esperado y volatilidad del portafolio EMV\n",
    "w1EMV_opt = res.x\n",
    "w2EMV_opt = 1-w1EMV_opt\n",
    "\n",
    "w1EMV_opt,w2EMV_opt,w1EMV,w2EMV"
   ]
  },
  {
   "cell_type": "code",
   "execution_count": 15,
   "metadata": {},
   "outputs": [
    {
     "data": {
      "text/plain": [
       "(0.13978394237787292, 0.14231708951606933)"
      ]
     },
     "execution_count": 15,
     "metadata": {},
     "output_type": "execute_result"
    }
   ],
   "source": [
    "E_EMV = w1EMV * E1 + w2EMV * E2\n",
    "s_EMV = ((w1EMV * s1)**2 + (w2EMV * s2)**2 + 2 * w1EMV * w2EMV * s12)**0.5\n",
    "E_EMV, s_EMV"
   ]
  },
  {
   "cell_type": "code",
   "execution_count": 18,
   "metadata": {},
   "outputs": [
    {
     "data": {
      "image/png": "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\n",
      "text/plain": [
       "<Figure size 432x288 with 2 Axes>"
      ]
     },
     "metadata": {
      "needs_background": "light"
     },
     "output_type": "display_data"
    }
   ],
   "source": [
    "# Gráfica de dispersión de puntos coloreando \n",
    "# de acuerdo a SR, y portafolio EMV\n",
    "plt.figure(figsize=(6, 4))\n",
    "plt.scatter(portafolios['Vol'], portafolios['Media'], c=portafolios['RS'], cmap='RdYlBu', label='Front. Min. Var.')\n",
    "plt.plot(s_EMV, E_EMV, 'or', ms=7, label='Portafolio EMV')\n",
    "plt.legend()\n",
    "plt.colorbar()\n",
    "plt.xlabel(\"Volatilidad $\\sigma$\")\n",
    "plt.ylabel(\"Rendimiento esperado $E[r]$\")\n",
    "plt.grid()"
   ]
  },
  {
   "cell_type": "markdown",
   "metadata": {},
   "source": [
    "#### 3. Construir LAC"
   ]
  },
  {
   "cell_type": "markdown",
   "metadata": {},
   "source": [
    "Ahora, dibujamos la LAC, combinando el portafolio EMV con el activo libre de riesgo:"
   ]
  },
  {
   "cell_type": "code",
   "execution_count": 21,
   "metadata": {},
   "outputs": [],
   "source": [
    "# Vector de wp variando entre 0 y 1.5 con n pasos\n",
    "N = 50\n",
    "wp = np.linspace(0, 1.5, N)"
   ]
  },
  {
   "cell_type": "code",
   "execution_count": 22,
   "metadata": {},
   "outputs": [
    {
     "data": {
      "text/html": [
       "<div>\n",
       "<style scoped>\n",
       "    .dataframe tbody tr th:only-of-type {\n",
       "        vertical-align: middle;\n",
       "    }\n",
       "\n",
       "    .dataframe tbody tr th {\n",
       "        vertical-align: top;\n",
       "    }\n",
       "\n",
       "    .dataframe thead th {\n",
       "        text-align: right;\n",
       "    }\n",
       "</style>\n",
       "<table border=\"1\" class=\"dataframe\">\n",
       "  <thead>\n",
       "    <tr style=\"text-align: right;\">\n",
       "      <th></th>\n",
       "      <th>wp</th>\n",
       "      <th>wrf</th>\n",
       "      <th>Media</th>\n",
       "      <th>Vol</th>\n",
       "      <th>RS</th>\n",
       "    </tr>\n",
       "  </thead>\n",
       "  <tbody>\n",
       "    <tr>\n",
       "      <th>0</th>\n",
       "      <td>0.000000</td>\n",
       "      <td>1.000000</td>\n",
       "      <td>0.050000</td>\n",
       "      <td>0.000000</td>\n",
       "      <td>NaN</td>\n",
       "    </tr>\n",
       "    <tr>\n",
       "      <th>1</th>\n",
       "      <td>0.030612</td>\n",
       "      <td>0.969388</td>\n",
       "      <td>0.052748</td>\n",
       "      <td>0.004357</td>\n",
       "      <td>0.630873</td>\n",
       "    </tr>\n",
       "    <tr>\n",
       "      <th>2</th>\n",
       "      <td>0.061224</td>\n",
       "      <td>0.938776</td>\n",
       "      <td>0.055497</td>\n",
       "      <td>0.008713</td>\n",
       "      <td>0.630873</td>\n",
       "    </tr>\n",
       "    <tr>\n",
       "      <th>3</th>\n",
       "      <td>0.091837</td>\n",
       "      <td>0.908163</td>\n",
       "      <td>0.058245</td>\n",
       "      <td>0.013070</td>\n",
       "      <td>0.630873</td>\n",
       "    </tr>\n",
       "    <tr>\n",
       "      <th>4</th>\n",
       "      <td>0.122449</td>\n",
       "      <td>0.877551</td>\n",
       "      <td>0.060994</td>\n",
       "      <td>0.017427</td>\n",
       "      <td>0.630873</td>\n",
       "    </tr>\n",
       "  </tbody>\n",
       "</table>\n",
       "</div>"
      ],
      "text/plain": [
       "         wp       wrf     Media       Vol        RS\n",
       "0  0.000000  1.000000  0.050000  0.000000       NaN\n",
       "1  0.030612  0.969388  0.052748  0.004357  0.630873\n",
       "2  0.061224  0.938776  0.055497  0.008713  0.630873\n",
       "3  0.091837  0.908163  0.058245  0.013070  0.630873\n",
       "4  0.122449  0.877551  0.060994  0.017427  0.630873"
      ]
     },
     "execution_count": 22,
     "metadata": {},
     "output_type": "execute_result"
    }
   ],
   "source": [
    "# DataFrame de CAL: \n",
    "# 1. Índice: i\n",
    "# 2. Columnas 1-2: wp, wrf\n",
    "# 3. Columnas 3-4: E[r], sigma\n",
    "# 4. Columna 5: Sharpe ratio\n",
    "LAC = pd.DataFrame(index=range(N), data={'wp': wp, \n",
    "                                         'wrf': 1 - wp,\n",
    "                                         'Media': wp * E_EMV + (1 - wp) * rf,\n",
    "                                         'Vol': wp * s_EMV\n",
    "                                        })\n",
    "LAC['RS'] = (LAC['Media'] - rf) / LAC['Vol']\n",
    "LAC.head()"
   ]
  },
  {
   "cell_type": "code",
   "execution_count": 26,
   "metadata": {},
   "outputs": [
    {
     "data": {
      "text/plain": [
       "(0.1, 0.2, 0.12, 0.18)"
      ]
     },
     "execution_count": 26,
     "metadata": {},
     "output_type": "execute_result"
    },
    {
     "data": {
      "image/png": "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\n",
      "text/plain": [
       "<Figure size 432x288 with 2 Axes>"
      ]
     },
     "metadata": {
      "needs_background": "light"
     },
     "output_type": "display_data"
    }
   ],
   "source": [
    "# Gráfica de dispersión de puntos coloreando \n",
    "# de acuerdo a SR, portafolio EMV y LAC\n",
    "plt.figure(figsize=(6, 4))\n",
    "plt.scatter(portafolios['Vol'], portafolios['Media'], c=portafolios['RS'], cmap='RdYlBu', label='Front. Min. Var.')\n",
    "plt.plot(s_EMV, E_EMV, 'or', ms=7, label='Portafolio EMV')\n",
    "plt.plot(LAC['Vol'], LAC['Media'], lw=3, label='LAC')\n",
    "plt.legend()\n",
    "plt.colorbar()\n",
    "plt.xlabel(\"Volatilidad $\\sigma$\")\n",
    "plt.ylabel(\"Rendimiento esperado $E[r]$\")\n",
    "plt.grid()\n",
    "plt.axis([0.1, 0.2, 0.12, 0.18])"
   ]
  },
  {
   "cell_type": "markdown",
   "metadata": {},
   "source": [
    "#### 4. Combinación óptima de acuerdo a preferencias\n",
    "\n",
    "Con los datos anteriores, y la caracterización de aversión al riesgo, se escoge la combinación óptima entre el portafolio EMV y el activo libre de riesgo de acuerdo a:\n",
    "\n",
    "$$w^\\ast=\\frac{E[r_s-r_f]}{\\gamma\\sigma_s^2}.$$"
   ]
  },
  {
   "cell_type": "code",
   "execution_count": 28,
   "metadata": {},
   "outputs": [
    {
     "data": {
      "text/plain": [
       "(0.6332665142475, 0.3667334857525)"
      ]
     },
     "execution_count": 28,
     "metadata": {},
     "output_type": "execute_result"
    }
   ],
   "source": [
    "# Para gamma=7\n",
    "g = 7\n",
    "w_a = (E_EMV - rf) / (g * s_EMV**2)\n",
    "w_a, 1 - w_a"
   ]
  },
  {
   "cell_type": "code",
   "execution_count": 29,
   "metadata": {},
   "outputs": [
    {
     "data": {
      "text/plain": [
       "(0.44221882010153346, 0.1910476941459666, 0.3667334857525)"
      ]
     },
     "execution_count": 29,
     "metadata": {},
     "output_type": "execute_result"
    }
   ],
   "source": [
    "w_a * w1EMV, w_a * w2EMV, 1 - w_a"
   ]
  },
  {
   "cell_type": "markdown",
   "metadata": {},
   "source": [
    "<script>\n",
    "  $(document).ready(function(){\n",
    "    $('div.prompt').hide();\n",
    "    $('div.back-to-top').hide();\n",
    "    $('nav#menubar').hide();\n",
    "    $('.breadcrumb').hide();\n",
    "    $('.hidden-print').hide();\n",
    "  });\n",
    "</script>\n",
    "\n",
    "<footer id=\"attribution\" style=\"float:right; color:#808080; background:#fff;\">\n",
    "Created with Jupyter by Esteban Jiménez Rodríguez.\n",
    "</footer>"
   ]
  }
 ],
 "metadata": {
  "kernelspec": {
   "display_name": "Python 3",
   "language": "python",
   "name": "python3"
  },
  "language_info": {
   "codemirror_mode": {
    "name": "ipython",
    "version": 3
   },
   "file_extension": ".py",
   "mimetype": "text/x-python",
   "name": "python",
   "nbconvert_exporter": "python",
   "pygments_lexer": "ipython3",
   "version": "3.7.6"
  }
 },
 "nbformat": 4,
 "nbformat_minor": 2
}
