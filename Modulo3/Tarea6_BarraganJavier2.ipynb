{
 "cells": [
  {
   "cell_type": "markdown",
   "metadata": {},
   "source": [
    "# Tarea 6. Distribución óptima de capital y selección de portafolios.\n",
    "\n",
    "<img style=\"float: right; margin: 0px 0px 15px 15px;\" src=\"https://upload.wikimedia.org/wikipedia/en/f/f3/SML-chart.png\" width=\"400px\" height=\"400px\" />\n",
    "\n",
    "**Resumen.**\n",
    "> En esta tarea, tendrás la oportunidad de aplicar los conceptos y las herramientas que aprendimos en el módulo 3. Específicamente, utilizarás técnicas de optimización media-varianza para construir la frontera de mínima varianza, encontrar el mejor portafolio sobre la frontera mínima varianza, y finalmente, identificar la asignación óptima de capital para un inversionista dado su nivel de averisón al riesgo.\n",
    "\n",
    "**Criterio de revisión.**\n",
    "> Se te calificará de acuerdo a los resultados finales que reportes, basados en tu análisis.\n",
    "\n",
    "**Antes de comenzar.**\n",
    "> Por favor, copiar y pegar este archivo en otra ubicación. Antes de comenzar, nombrarlo *Tarea6_ApellidoNombre*, sin acentos y sin espacios; por ejemplo, en mi caso el archivo se llamaría *Tarea6_JimenezEsteban*. Resolver todos los puntos en dicho archivo y subir en este espacio."
   ]
  },
  {
   "cell_type": "markdown",
   "metadata": {},
   "source": [
    "## 1. Datos (10 puntos)\n",
    "\n",
    "Considere los siguientes datos de bonos, índice de acciones, mercados desarrollados, mercados emergentes, fondos privados, activos reales y activos libres de riesgo:"
   ]
  },
  {
   "cell_type": "code",
   "execution_count": 23,
   "metadata": {},
   "outputs": [],
   "source": [
    "# Importamos pandas y numpy\n",
    "import pandas as pd\n",
    "import numpy as np"
   ]
  },
  {
   "cell_type": "code",
   "execution_count": 24,
   "metadata": {},
   "outputs": [
    {
     "data": {
      "text/html": [
       "<div>\n",
       "<style scoped>\n",
       "    .dataframe tbody tr th:only-of-type {\n",
       "        vertical-align: middle;\n",
       "    }\n",
       "\n",
       "    .dataframe tbody tr th {\n",
       "        vertical-align: top;\n",
       "    }\n",
       "\n",
       "    .dataframe thead th {\n",
       "        text-align: right;\n",
       "    }\n",
       "</style>\n",
       "<table border=\"1\" class=\"dataframe\">\n",
       "  <thead>\n",
       "    <tr style=\"text-align: right;\">\n",
       "      <th></th>\n",
       "      <th>Bonos</th>\n",
       "      <th>Acciones</th>\n",
       "      <th>Desarrollado</th>\n",
       "      <th>Emergente</th>\n",
       "      <th>Privados</th>\n",
       "      <th>Real</th>\n",
       "      <th>Libre_riesgo</th>\n",
       "    </tr>\n",
       "  </thead>\n",
       "  <tbody>\n",
       "    <tr>\n",
       "      <td>Media</td>\n",
       "      <td>0.04</td>\n",
       "      <td>0.106</td>\n",
       "      <td>0.083</td>\n",
       "      <td>0.119</td>\n",
       "      <td>0.128</td>\n",
       "      <td>0.062</td>\n",
       "      <td>0.03</td>\n",
       "    </tr>\n",
       "    <tr>\n",
       "      <td>Volatilidad</td>\n",
       "      <td>0.068</td>\n",
       "      <td>0.224</td>\n",
       "      <td>0.221</td>\n",
       "      <td>0.3</td>\n",
       "      <td>0.231</td>\n",
       "      <td>0.068</td>\n",
       "      <td>0</td>\n",
       "    </tr>\n",
       "  </tbody>\n",
       "</table>\n",
       "</div>"
      ],
      "text/plain": [
       "             Bonos Acciones Desarrollado Emergente Privados   Real  \\\n",
       "Media         0.04    0.106        0.083     0.119    0.128  0.062   \n",
       "Volatilidad  0.068    0.224        0.221       0.3    0.231  0.068   \n",
       "\n",
       "            Libre_riesgo  \n",
       "Media               0.03  \n",
       "Volatilidad            0  "
      ]
     },
     "execution_count": 24,
     "metadata": {},
     "output_type": "execute_result"
    }
   ],
   "source": [
    "# Resumen en base anual de rendimientos esperados y volatilidades\n",
    "annual_ret_summ = pd.DataFrame(columns=['Bonos', 'Acciones', 'Desarrollado', 'Emergente', 'Privados', 'Real', 'Libre_riesgo'], index=['Media', 'Volatilidad'])\n",
    "annual_ret_summ.loc['Media'] = np.array([0.0400, 0.1060, 0.0830, 0.1190, 0.1280, 0.0620, 0.0300])\n",
    "annual_ret_summ.loc['Volatilidad'] = np.array([0.0680, 0.2240, 0.2210, 0.3000, 0.2310, 0.0680, 0])\n",
    "\n",
    "annual_ret_summ.round(4)"
   ]
  },
  {
   "cell_type": "code",
   "execution_count": 25,
   "metadata": {},
   "outputs": [
    {
     "data": {
      "text/html": [
       "<div>\n",
       "<style scoped>\n",
       "    .dataframe tbody tr th:only-of-type {\n",
       "        vertical-align: middle;\n",
       "    }\n",
       "\n",
       "    .dataframe tbody tr th {\n",
       "        vertical-align: top;\n",
       "    }\n",
       "\n",
       "    .dataframe thead th {\n",
       "        text-align: right;\n",
       "    }\n",
       "</style>\n",
       "<table border=\"1\" class=\"dataframe\">\n",
       "  <thead>\n",
       "    <tr style=\"text-align: right;\">\n",
       "      <th></th>\n",
       "      <th>Bonos</th>\n",
       "      <th>Acciones</th>\n",
       "      <th>Desarrollado</th>\n",
       "      <th>Emergente</th>\n",
       "      <th>Privados</th>\n",
       "      <th>Real</th>\n",
       "    </tr>\n",
       "  </thead>\n",
       "  <tbody>\n",
       "    <tr>\n",
       "      <td>Bonos</td>\n",
       "      <td>1.00</td>\n",
       "      <td>0.4</td>\n",
       "      <td>0.25</td>\n",
       "      <td>0.20</td>\n",
       "      <td>0.15</td>\n",
       "      <td>0.20</td>\n",
       "    </tr>\n",
       "    <tr>\n",
       "      <td>Acciones</td>\n",
       "      <td>0.40</td>\n",
       "      <td>1.0</td>\n",
       "      <td>0.70</td>\n",
       "      <td>0.60</td>\n",
       "      <td>0.70</td>\n",
       "      <td>0.20</td>\n",
       "    </tr>\n",
       "    <tr>\n",
       "      <td>Desarrollado</td>\n",
       "      <td>0.25</td>\n",
       "      <td>0.7</td>\n",
       "      <td>1.00</td>\n",
       "      <td>0.75</td>\n",
       "      <td>0.60</td>\n",
       "      <td>0.10</td>\n",
       "    </tr>\n",
       "    <tr>\n",
       "      <td>Emergente</td>\n",
       "      <td>0.20</td>\n",
       "      <td>0.6</td>\n",
       "      <td>0.75</td>\n",
       "      <td>1.00</td>\n",
       "      <td>0.25</td>\n",
       "      <td>0.15</td>\n",
       "    </tr>\n",
       "    <tr>\n",
       "      <td>Privados</td>\n",
       "      <td>0.15</td>\n",
       "      <td>0.7</td>\n",
       "      <td>0.60</td>\n",
       "      <td>0.25</td>\n",
       "      <td>1.00</td>\n",
       "      <td>0.30</td>\n",
       "    </tr>\n",
       "    <tr>\n",
       "      <td>Real</td>\n",
       "      <td>0.20</td>\n",
       "      <td>0.2</td>\n",
       "      <td>0.10</td>\n",
       "      <td>0.15</td>\n",
       "      <td>0.30</td>\n",
       "      <td>1.00</td>\n",
       "    </tr>\n",
       "  </tbody>\n",
       "</table>\n",
       "</div>"
      ],
      "text/plain": [
       "              Bonos  Acciones  Desarrollado  Emergente  Privados  Real\n",
       "Bonos          1.00       0.4          0.25       0.20      0.15  0.20\n",
       "Acciones       0.40       1.0          0.70       0.60      0.70  0.20\n",
       "Desarrollado   0.25       0.7          1.00       0.75      0.60  0.10\n",
       "Emergente      0.20       0.6          0.75       1.00      0.25  0.15\n",
       "Privados       0.15       0.7          0.60       0.25      1.00  0.30\n",
       "Real           0.20       0.2          0.10       0.15      0.30  1.00"
      ]
     },
     "execution_count": 25,
     "metadata": {},
     "output_type": "execute_result"
    }
   ],
   "source": [
    "# Matriz de correlación\n",
    "corr = pd.DataFrame(data= np.array([[1.0000, 0.4000, 0.2500, 0.2000, 0.1500, 0.2000],\n",
    "                                    [0.4000, 1.0000, 0.7000, 0.6000, 0.7000, 0.2000],\n",
    "                                    [0.2500, 0.7000, 1.0000, 0.7500, 0.6000, 0.1000],\n",
    "                                    [0.2000, 0.6000, 0.7500, 1.0000, 0.2500, 0.1500],\n",
    "                                    [0.1500, 0.7000, 0.6000, 0.2500, 1.0000, 0.3000],\n",
    "                                    [0.2000, 0.2000, 0.1000, 0.1500, 0.3000, 1.0000]]),\n",
    "                    columns=annual_ret_summ.columns[:-1], index=annual_ret_summ.columns[:-1])\n",
    "corr.round(4)"
   ]
  },
  {
   "cell_type": "markdown",
   "metadata": {},
   "source": [
    "1. Graficar en el espacio de rendimiento esperado contra volatilidad cada uno de los activos (10 puntos)."
   ]
  },
  {
   "cell_type": "code",
   "execution_count": 26,
   "metadata": {},
   "outputs": [
    {
     "data": {
      "image/png": "[encoded data removed]",
      "text/plain": [
       "<Figure size 720x576 with 1 Axes>"
      ]
     },
     "metadata": {
      "needs_background": "light"
     },
     "output_type": "display_data"
    }
   ],
   "source": [
    "import matplotlib.pyplot as plt\n",
    "# Gráfico rendimiento esperado vs. volatilidad\n",
    "x_points = annual_ret_summ.loc['Volatilidad'].values\n",
    "y_points = annual_ret_summ.loc['Media'].values\n",
    "plt.figure(figsize=(10,8))\n",
    "plt.plot(x_points, y_points, 'ro', ms=5)\n",
    "plt.xlabel('Annual Volatility $\\sigma$')\n",
    "plt.ylabel('Annual Expected return $E[r]$')\n",
    "#Etiqueta de cada instrumento\n",
    "for i in range(0,7):\n",
    "    plt.text(x_points[i], y_points[i],annual_ret_summ.columns[i])"
   ]
  },
  {
   "cell_type": "markdown",
   "metadata": {},
   "source": [
    "## 2. Hallando portafolios sobre la frontera de mínima varianza (35 puntos)\n",
    "\n",
    "Usando los datos del punto anterior:\n",
    "\n",
    "1. Halle los pesos del portafolio de mínima varianza considerando todos los activos riesgosos. También reportar claramente el rendimiento esperado, volatilidad y cociente de Sharpe para dicho portafolio (15 puntos).\n",
    "2. Halle los pesos del portafolio EMV considerando todos los activos riesgosos. También reportar claramente el rendimiento esperado, volatilidad y cociente de Sharpe para dicho portafolio (15 puntos).\n",
    "3. Halle la covarianza y la correlación entre los dos portafolios hallados (5 puntos)"
   ]
  },
  {
   "cell_type": "code",
   "execution_count": 5,
   "metadata": {},
   "outputs": [],
   "source": [
    "# Importamos funcion minimize del modulo optimize de scipy\n",
    "from scipy.optimize import minimize"
   ]
  },
  {
   "cell_type": "code",
   "execution_count": 6,
   "metadata": {},
   "outputs": [],
   "source": [
    "rf = annual_ret_summ.iloc[0,-1]\n",
    "annual_ret_summ = annual_ret_summ.iloc[:, :-1]"
   ]
  },
  {
   "cell_type": "code",
   "execution_count": 7,
   "metadata": {},
   "outputs": [],
   "source": [
    "## Construcción de parámetros\n",
    "# 1. Sigma: matriz de varianza-covarianza Sigma = S.dot(corr).dot(S)\n",
    "S = np.diag(annual_ret_summ.loc['Volatilidad', :].values)\n",
    "Sigma = S.dot(corr).dot(S)\n",
    "# 2. Eind: rendimientos esperados activos individuales\n",
    "Eind = annual_ret_summ.loc['Media', :].values"
   ]
  },
  {
   "cell_type": "code",
   "execution_count": 8,
   "metadata": {},
   "outputs": [],
   "source": [
    "# Función objetivo\n",
    "def varianza(w, Sigma):\n",
    "    return w.T.dot(Sigma).dot(w)"
   ]
  },
  {
   "cell_type": "code",
   "execution_count": 9,
   "metadata": {},
   "outputs": [],
   "source": [
    "# Dato inicial\n",
    "n = len(Eind)\n",
    "w0 = np.ones(n) / n\n",
    "# Cotas de las variables\n",
    "bnds = ((0, 1),) * n\n",
    "# Restricciones\n",
    "cons = {'type': 'eq', 'fun': lambda w: w.sum() - 1}"
   ]
  },
  {
   "cell_type": "code",
   "execution_count": 10,
   "metadata": {},
   "outputs": [
    {
     "data": {
      "text/plain": [
       "     fun: 0.0027745037325952863\n",
       "     jac: array([0.00551408, 0.00912289, 0.00525779, 0.00714968, 0.00710235,\n",
       "       0.0055834 ])\n",
       " message: 'Optimization terminated successfully.'\n",
       "    nfev: 64\n",
       "     nit: 8\n",
       "    njev: 8\n",
       "  status: 0\n",
       " success: True\n",
       "       x: array([4.95146500e-01, 0.00000000e+00, 2.09837058e-04, 4.33680869e-19,\n",
       "       0.00000000e+00, 5.04643663e-01])"
      ]
     },
     "execution_count": 10,
     "metadata": {},
     "output_type": "execute_result"
    }
   ],
   "source": [
    "# Portafolio de mínima varianza\n",
    "minvar = minimize(fun=varianza, x0=w0, args=(Sigma,), bounds=bnds, constraints=cons)\n",
    "minvar"
   ]
  },
  {
   "cell_type": "code",
   "execution_count": 11,
   "metadata": {},
   "outputs": [],
   "source": [
    "# Pesos, rendimiento y riesgo del portafolio de mínima varianza\n",
    "w_minvar = minvar.x\n",
    "E_minvar = Eind.T.dot(w_minvar)\n",
    "s_minvar = (w_minvar.T.dot(Sigma).dot(w_minvar))**0.5\n",
    "\n",
    "def minus_SR(w, Sigma, Eind, rf):\n",
    "    sp = (w.T.dot(Sigma).dot(w))**0.5\n",
    "    Ep = Eind.T.dot(w)\n",
    "    SR = (Ep - rf) / sp\n",
    "    return -SR\n",
    "\n",
    "SR_minvar = -minus_SR(w_minvar,s_minvar,annual_ret_summ.loc[\"Media\"],rf)"
   ]
  },
  {
   "cell_type": "code",
   "execution_count": 12,
   "metadata": {},
   "outputs": [
    {
     "name": "stdout",
     "output_type": "stream",
     "text": [
      "Los pesos del portafolio de minima varianza son, respectivamente [4.95146500e-01 0.00000000e+00 2.09837058e-04 4.33680869e-19\n",
      " 0.00000000e+00 5.04643663e-01]  Con un rendimiento de 0.0511111835712562  y una volatilidad de  0.0526735581918982  y un índice de sharpe de 0.1301076341940257\n"
     ]
    }
   ],
   "source": [
    "print(\"Los pesos del portafolio de minima varianza son, respectivamente\",w_minvar,\" Con un rendimiento de\",E_minvar,\" y una volatilidad de \",s_minvar, \" y un índice de sharpe de\",SR_minvar)"
   ]
  },
  {
   "cell_type": "code",
   "execution_count": 13,
   "metadata": {},
   "outputs": [
    {
     "data": {
      "text/plain": [
       "     fun: -0.5811986201269204\n",
       "     jac: array([-0.36522095, -0.28920724, -0.12258474, -0.36597763, -0.36617207,\n",
       "       -0.36620118])\n",
       " message: 'Optimization terminated successfully.'\n",
       "    nfev: 50\n",
       "     nit: 6\n",
       "    njev: 6\n",
       "  status: 0\n",
       " success: True\n",
       "       x: array([1.34289953e-17, 1.01738175e-16, 1.23637069e-16, 8.19187951e-02,\n",
       "       1.65859031e-01, 7.52222174e-01])"
      ]
     },
     "execution_count": 13,
     "metadata": {},
     "output_type": "execute_result"
    }
   ],
   "source": [
    "#EMV\n",
    "\n",
    "# Dato inicial\n",
    "n = len(Eind)\n",
    "w0 = np.ones(n) / n\n",
    "# Cotas de las variables\n",
    "bnds = ((0, 1),) * n\n",
    "# Restricciones\n",
    "cons = {'type': 'eq', 'fun': lambda w: w.sum() - 1}\n",
    "# Portafolio EMV\n",
    "EMV = minimize(fun=minus_SR, x0=w0, args=(Sigma, Eind, rf), bounds=bnds, constraints=cons)\n",
    "EMV"
   ]
  },
  {
   "cell_type": "code",
   "execution_count": 14,
   "metadata": {},
   "outputs": [],
   "source": [
    "# Pesos, rendimiento y riesgo del portafolio EMV\n",
    "w_EMV = EMV.x\n",
    "E_EMV = Eind.T.dot(w_EMV)\n",
    "s_EMV = (w_EMV.T.dot(Sigma).dot(w_EMV))**0.5\n",
    "w_EMV, E_EMV, s_EMV\n",
    "SR_EMV = -minus_SR(w_EMV,s_EMV,annual_ret_summ.loc[\"Media\"],rf)\n"
   ]
  },
  {
   "cell_type": "code",
   "execution_count": 15,
   "metadata": {},
   "outputs": [
    {
     "name": "stdout",
     "output_type": "stream",
     "text": [
      "Los pesos del portafolio EMV son, respectivamente [1.34289953e-17 1.01738175e-16 1.23637069e-16 8.19187951e-02\n",
      " 1.65859031e-01 7.52222174e-01]  Con un rendimiento de 0.0776160673678556  y una volatilidad de  0.0819273579098611  y un índice de sharpe de 0.2147545607896808\n"
     ]
    }
   ],
   "source": [
    "print(\"Los pesos del portafolio EMV son, respectivamente\",w_EMV,\" Con un rendimiento de\",E_EMV,\" y una volatilidad de \",s_EMV, \" y un índice de sharpe de\",SR_EMV)"
   ]
  },
  {
   "cell_type": "code",
   "execution_count": 16,
   "metadata": {},
   "outputs": [
    {
     "name": "stdout",
     "output_type": "stream",
     "text": [
      "La covarianza entre los dos portafolios es de  0.00298181903668825 con una correlación de 0.6909707716261658\n"
     ]
    }
   ],
   "source": [
    "# Covarianza entre los portafolios\n",
    "cov = w_EMV.T.dot(Sigma).dot(w_minvar)\n",
    "# Correlación entre los portafolios\n",
    "corr = cov / (s_EMV * s_minvar)\n",
    "\n",
    "print(\"La covarianza entre los dos portafolios es de \",cov,\"con una correlación de\",corr)"
   ]
  },
  {
   "cell_type": "markdown",
   "metadata": {},
   "source": [
    "## 3. Frontera de mínima varianza y LAC (30 puntos)\n",
    "\n",
    "Con los portafolios que se encontraron en el punto anterior (de mínima varianza y EMV):\n",
    "\n",
    "1. Construya la frontera de mínima varianza calculando el rendimiento esperado y volatilidad para varias combinaciones de los anteriores portafolios. Reportar dichas combinaciones en un DataFrame incluyendo pesos, rendimiento, volatilidad y cociente de Sharpe (15 puntos).\n",
    "2. También construya la línea de asignación de capital entre el activo libre de riesgo y el portafolio EMV. Reportar las combinaciones de estos activos en un DataFrame incluyendo pesos, rendimiento, volatilidad y cociente de Sharpe (15 puntos)."
   ]
  },
  {
   "cell_type": "code",
   "execution_count": 17,
   "metadata": {},
   "outputs": [
    {
     "data": {
      "text/html": [
       "<div>\n",
       "<style scoped>\n",
       "    .dataframe tbody tr th:only-of-type {\n",
       "        vertical-align: middle;\n",
       "    }\n",
       "\n",
       "    .dataframe tbody tr th {\n",
       "        vertical-align: top;\n",
       "    }\n",
       "\n",
       "    .dataframe thead th {\n",
       "        text-align: right;\n",
       "    }\n",
       "</style>\n",
       "<table border=\"1\" class=\"dataframe\">\n",
       "  <thead>\n",
       "    <tr style=\"text-align: right;\">\n",
       "      <th></th>\n",
       "      <th>w</th>\n",
       "      <th>1-w</th>\n",
       "      <th>Media</th>\n",
       "      <th>Vol</th>\n",
       "      <th>RS</th>\n",
       "    </tr>\n",
       "  </thead>\n",
       "  <tbody>\n",
       "    <tr>\n",
       "      <td>0</td>\n",
       "      <td>0.000000</td>\n",
       "      <td>1.000000</td>\n",
       "      <td>0.051111</td>\n",
       "      <td>0.052674</td>\n",
       "      <td>0.400793</td>\n",
       "    </tr>\n",
       "    <tr>\n",
       "      <td>1</td>\n",
       "      <td>0.030303</td>\n",
       "      <td>0.969697</td>\n",
       "      <td>0.051914</td>\n",
       "      <td>0.052823</td>\n",
       "      <td>0.414861</td>\n",
       "    </tr>\n",
       "    <tr>\n",
       "      <td>2</td>\n",
       "      <td>0.060606</td>\n",
       "      <td>0.939394</td>\n",
       "      <td>0.052718</td>\n",
       "      <td>0.053034</td>\n",
       "      <td>0.428360</td>\n",
       "    </tr>\n",
       "    <tr>\n",
       "      <td>3</td>\n",
       "      <td>0.090909</td>\n",
       "      <td>0.909091</td>\n",
       "      <td>0.053521</td>\n",
       "      <td>0.053304</td>\n",
       "      <td>0.441256</td>\n",
       "    </tr>\n",
       "    <tr>\n",
       "      <td>4</td>\n",
       "      <td>0.121212</td>\n",
       "      <td>0.878788</td>\n",
       "      <td>0.054324</td>\n",
       "      <td>0.053633</td>\n",
       "      <td>0.453523</td>\n",
       "    </tr>\n",
       "  </tbody>\n",
       "</table>\n",
       "</div>"
      ],
      "text/plain": [
       "          w       1-w     Media       Vol        RS\n",
       "0  0.000000  1.000000  0.051111  0.052674  0.400793\n",
       "1  0.030303  0.969697  0.051914  0.052823  0.414861\n",
       "2  0.060606  0.939394  0.052718  0.053034  0.428360\n",
       "3  0.090909  0.909091  0.053521  0.053304  0.441256\n",
       "4  0.121212  0.878788  0.054324  0.053633  0.453523"
      ]
     },
     "execution_count": 17,
     "metadata": {},
     "output_type": "execute_result"
    }
   ],
   "source": [
    "from matplotlib import pyplot as plt\n",
    "%matplotlib inline\n",
    "# Vector de w\n",
    "w = np.linspace(0, 3, 100)\n",
    "\n",
    "portafolios = pd.DataFrame(data={'w': w, \n",
    "                                 '1-w': 1 - w,\n",
    "                                 'Media': w * E_EMV + (1 - w) * E_minvar,\n",
    "                                 'Vol': ((w * s_EMV)**2 + ((1 - w) * s_minvar)**2 + 2 * w * (1 - w) * cov)**0.5                             })\n",
    "portafolios['RS'] = (portafolios['Media'] - rf) / portafolios['Vol']\n",
    "portafolios.head()"
   ]
  },
  {
   "cell_type": "code",
   "execution_count": 18,
   "metadata": {},
   "outputs": [
    {
     "data": {
      "image/png": "[encoded data removed]",
      "text/plain": [
       "<Figure size 432x288 with 2 Axes>"
      ]
     },
     "metadata": {
      "needs_background": "light"
     },
     "output_type": "display_data"
    }
   ],
   "source": [
    "# Gráfica de dispersión de puntos coloreando \n",
    "# de acuerdo a SR, los activos individuales\n",
    "# y los portafolios hallados\n",
    "plt.figure(figsize=(6, 4))\n",
    "plt.scatter(portafolios['Vol'], portafolios['Media'], c=portafolios['RS'], cmap='RdYlBu', label='Front. Min. Var.')\n",
    "plt.plot(s_minvar, E_minvar, 'og', ms=7, label='Port. Min. Var.')\n",
    "plt.plot(s_EMV, E_EMV, 'or', ms=7, label='Port. EMV')\n",
    "plt.legend(loc='best')\n",
    "plt.colorbar()\n",
    "plt.xlabel(\"Volatilidad $\\sigma$\")\n",
    "plt.ylabel(\"Rendimiento esperado $E[r]$\")\n",
    "plt.grid()"
   ]
  },
  {
   "cell_type": "code",
   "execution_count": 51,
   "metadata": {},
   "outputs": [
    {
     "data": {
      "text/html": [
       "<div>\n",
       "<style scoped>\n",
       "    .dataframe tbody tr th:only-of-type {\n",
       "        vertical-align: middle;\n",
       "    }\n",
       "\n",
       "    .dataframe tbody tr th {\n",
       "        vertical-align: top;\n",
       "    }\n",
       "\n",
       "    .dataframe thead th {\n",
       "        text-align: right;\n",
       "    }\n",
       "</style>\n",
       "<table border=\"1\" class=\"dataframe\">\n",
       "  <thead>\n",
       "    <tr style=\"text-align: right;\">\n",
       "      <th></th>\n",
       "      <th>wp</th>\n",
       "      <th>wrf</th>\n",
       "      <th>Media</th>\n",
       "      <th>Vol</th>\n",
       "      <th>RS</th>\n",
       "    </tr>\n",
       "  </thead>\n",
       "  <tbody>\n",
       "    <tr>\n",
       "      <td>45</td>\n",
       "      <td>1.653061</td>\n",
       "      <td>-0.653061</td>\n",
       "      <td>0.108712</td>\n",
       "      <td>0.135431</td>\n",
       "      <td>0.581199</td>\n",
       "    </tr>\n",
       "    <tr>\n",
       "      <td>46</td>\n",
       "      <td>1.689796</td>\n",
       "      <td>-0.689796</td>\n",
       "      <td>0.110461</td>\n",
       "      <td>0.138441</td>\n",
       "      <td>0.581199</td>\n",
       "    </tr>\n",
       "    <tr>\n",
       "      <td>47</td>\n",
       "      <td>1.726531</td>\n",
       "      <td>-0.726531</td>\n",
       "      <td>0.112211</td>\n",
       "      <td>0.141450</td>\n",
       "      <td>0.581199</td>\n",
       "    </tr>\n",
       "    <tr>\n",
       "      <td>48</td>\n",
       "      <td>1.763265</td>\n",
       "      <td>-0.763265</td>\n",
       "      <td>0.113960</td>\n",
       "      <td>0.144460</td>\n",
       "      <td>0.581199</td>\n",
       "    </tr>\n",
       "    <tr>\n",
       "      <td>49</td>\n",
       "      <td>1.800000</td>\n",
       "      <td>-0.800000</td>\n",
       "      <td>0.115709</td>\n",
       "      <td>0.147469</td>\n",
       "      <td>0.581199</td>\n",
       "    </tr>\n",
       "  </tbody>\n",
       "</table>\n",
       "</div>"
      ],
      "text/plain": [
       "          wp       wrf     Media       Vol        RS\n",
       "45  1.653061 -0.653061  0.108712  0.135431  0.581199\n",
       "46  1.689796 -0.689796  0.110461  0.138441  0.581199\n",
       "47  1.726531 -0.726531  0.112211  0.141450  0.581199\n",
       "48  1.763265 -0.763265  0.113960  0.144460  0.581199\n",
       "49  1.800000 -0.800000  0.115709  0.147469  0.581199"
      ]
     },
     "execution_count": 51,
     "metadata": {},
     "output_type": "execute_result"
    }
   ],
   "source": [
    "# Vector de wp variando entre 0 y 1.5 con n pasos\n",
    "N = 50\n",
    "wp = np.linspace(0, 1.8, N)\n",
    "\n",
    "LAC = pd.DataFrame(index=range(N), data={'wp': wp, \n",
    "                                         'wrf': 1 - wp,\n",
    "                                         'Media': wp * E_EMV + (1 - wp) * rf,\n",
    "                                         'Vol': wp * s_EMV\n",
    "                                        })\n",
    "LAC['RS'] = (LAC['Media'] - rf) / LAC['Vol']\n",
    "LAC.tail()"
   ]
  },
  {
   "cell_type": "code",
   "execution_count": 39,
   "metadata": {},
   "outputs": [
    {
     "data": {
      "image/png": "[encoded data removed]",
      "text/plain": [
       "<Figure size 432x288 with 2 Axes>"
      ]
     },
     "metadata": {
      "needs_background": "light"
     },
     "output_type": "display_data"
    }
   ],
   "source": [
    "# Gráfica de dispersión de puntos coloreando \n",
    "# de acuerdo a SR, portafolio EMV y LAC\n",
    "plt.figure(figsize=(6, 4))\n",
    "plt.scatter(portafolios['Vol'], portafolios['Media'], c=portafolios['RS'], cmap='RdYlBu', label='Front. Min. Var.')\n",
    "plt.plot(s_EMV, E_EMV, 'or', ms=7, label='Portafolio EMV')\n",
    "plt.plot(LAC['Vol'], LAC['Media'], lw=3, label='LAC',c=\"r\")\n",
    "plt.legend()\n",
    "plt.colorbar()\n",
    "plt.xlabel(\"Volatilidad $\\sigma$\")\n",
    "plt.ylabel(\"Rendimiento esperado $E[r]$\")\n",
    "plt.grid()"
   ]
  },
  {
   "cell_type": "code",
   "execution_count": null,
   "metadata": {},
   "outputs": [],
   "source": []
  },
  {
   "cell_type": "markdown",
   "metadata": {},
   "source": [
    "## 4. Gráficos y conclusiones (25 puntos)\n",
    "\n",
    "1. Usando todos los datos obtenidos, grafique:\n",
    " - los activos individuales,\n",
    " - portafolio de mínima varianza,\n",
    " - portafolio eficiente en media-varianza (EMV),\n",
    " - frontera de mínima varianza, y\n",
    " - línea de asignación de capital,\n",
    "en el espacio de rendimiento (eje $y$) vs. volatilidad (eje $x$). Asegúrese de etiquetar todo y poner distintos colores para diferenciar los distintos elementos en su gráfico (15 puntos).\n",
    "2. Suponga que usted está aconsejando a un cliente cuyo coeficiente de aversión al riesgo resultó ser 4. ¿Qué asignación de capital le sugeriría?, ¿qué significa su resultado?(10 puntos)"
   ]
  },
  {
   "cell_type": "code",
   "execution_count": 40,
   "metadata": {},
   "outputs": [
    {
     "data": {
      "image/png": "[encoded data removed]",
      "text/plain": [
       "<Figure size 720x576 with 2 Axes>"
      ]
     },
     "metadata": {
      "needs_background": "light"
     },
     "output_type": "display_data"
    }
   ],
   "source": [
    "plt.figure(figsize=(10, 8))\n",
    "plt.plot(x_points, y_points, 'ro', ms=5)\n",
    "for i in range(0,7):\n",
    "    plt.text(x_points[i], y_points[i],annual_ret_summ.columns[i])\n",
    "plt.scatter(portafolios['Vol'], portafolios['Media'], c=portafolios['RS'], cmap='RdYlBu', label='Front. Min. Var.')\n",
    "plt.plot(LAC['Vol'], LAC['Media'], lw=3, label='LAC',c=\"r\")\n",
    "plt.plot(s_EMV, E_EMV, 'og', ms=7, label='Portafolio EMV')\n",
    "plt.plot(s_minvar, E_minvar, 'oy', ms=7, label='Port. Min. Var.')\n",
    "plt.legend()\n",
    "plt.colorbar()\n",
    "plt.xlabel(\"Volatilidad $\\sigma$\")\n",
    "plt.ylabel(\"Rendimiento esperado $E[r]$\")\n",
    "plt.grid()"
   ]
  },
  {
   "cell_type": "code",
   "execution_count": 44,
   "metadata": {},
   "outputs": [
    {
     "data": {
      "text/plain": [
       "(1.7735181353168143, -0.7735181353168143)"
      ]
     },
     "execution_count": 44,
     "metadata": {},
     "output_type": "execute_result"
    }
   ],
   "source": [
    "g = 4\n",
    "w_a = (E_EMV - rf) / (g * s_EMV**2)\n",
    "w_a, 1 - w_a"
   ]
  },
  {
   "cell_type": "code",
   "execution_count": 45,
   "metadata": {},
   "outputs": [
    {
     "name": "stdout",
     "output_type": "stream",
     "text": [
      "Si el coeficiente del cliente es 4, entonces recomendaría pedir prestado  -0.7735181353168143 veces el capital e invertir el capital más lo prestado, resultando  1.7735181353168143 en el portafolio EMV\n"
     ]
    }
   ],
   "source": [
    "print(\"Si el coeficiente del cliente es 4, entonces recomendaría pedir prestado \",1-w_a,\"veces el capital e invertir el capital más lo prestado, resultando \",w_a,\"en el portafolio EMV\")"
   ]
  },
  {
   "cell_type": "code",
   "execution_count": 53,
   "metadata": {},
   "outputs": [
    {
     "data": {
      "image/png": "[encoded data removed]",
      "text/plain": [
       "<Figure size 720x576 with 2 Axes>"
      ]
     },
     "metadata": {
      "needs_background": "light"
     },
     "output_type": "display_data"
    }
   ],
   "source": [
    "plt.figure(figsize=(10, 8))\n",
    "plt.plot(x_points, y_points, 'ro', ms=5)\n",
    "for i in range(0,7):\n",
    "    plt.text(x_points[i], y_points[i],annual_ret_summ.columns[i])\n",
    "plt.scatter(portafolios['Vol'], portafolios['Media'], c=portafolios['RS'], cmap='RdYlBu', label='Front. Min. Var.')\n",
    "plt.plot(LAC['Vol'], LAC['Media'], lw=3, label='LAC',c=\"r\")\n",
    "plt.plot(s_EMV, E_EMV, 'og', ms=7, label='Portafolio EMV')\n",
    "plt.plot(s_minvar, E_minvar, 'oy', ms=7, label='Port. Min. Var.')\n",
    "plt.plot(LAC.loc[:,\"Vol\"][48], LAC.loc[:,\"Media\"][48], 'oc', ms=7, label='Portafolio Recomendado g=4')\n",
    "plt.legend()\n",
    "plt.colorbar()\n",
    "plt.xlabel(\"Volatilidad $\\sigma$\")\n",
    "plt.ylabel(\"Rendimiento esperado $E[r]$\")\n",
    "plt.grid()"
   ]
  },
  {
   "cell_type": "code",
   "execution_count": null,
   "metadata": {},
   "outputs": [],
   "source": []
  },
  {
   "cell_type": "code",
   "execution_count": null,
   "metadata": {},
   "outputs": [],
   "source": []
  },
  {
   "cell_type": "markdown",
   "metadata": {},
   "source": [
    "<script>\n",
    "  $(document).ready(function(){\n",
    "    $('div.prompt').hide();\n",
    "    $('div.back-to-top').hide();\n",
    "    $('nav#menubar').hide();\n",
    "    $('.breadcrumb').hide();\n",
    "    $('.hidden-print').hide();\n",
    "  });\n",
    "</script>\n",
    "\n",
    "<footer id=\"attribution\" style=\"float:right; color:#808080; background:#fff;\">\n",
    "Created with Jupyter by Esteban Jiménez Rodríguez.\n",
    "</footer>"
   ]
  }
 ],
 "metadata": {
  "kernelspec": {
   "display_name": "Python 3",
   "language": "python",
   "name": "python3"
  },
  "language_info": {
   "codemirror_mode": {
    "name": "ipython",
    "version": 3
   },
   "file_extension": ".py",
   "mimetype": "text/x-python",
   "name": "python",
   "nbconvert_exporter": "python",
   "pygments_lexer": "ipython3",
   "version": "3.7.4"
  }
 },
 "nbformat": 4,
 "nbformat_minor": 2
}
